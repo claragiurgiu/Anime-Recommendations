{
 "cells": [
  {
   "attachments": {},
   "cell_type": "markdown",
   "metadata": {},
   "source": [
    "# Anime Recommendation: Collaborative Filtering Approach"
   ]
  },
  {
   "attachments": {},
   "cell_type": "markdown",
   "metadata": {},
   "source": [
    "## Overview\n",
    "This project aims to build an anime recommendation system for new members and current subscribers of an anime streaming service. New members can use a content-based approach to receive recommendations based on a show they may have watched or heard of previosuly. For current subscribers, collaborative filtering is used by comparing the users' ratings and returning shows similar users have rated similarly. "
   ]
  },
  {
   "attachments": {},
   "cell_type": "markdown",
   "metadata": {},
   "source": [
    "\n",
    "## Business Understanding\n",
    "The anime industry is a rapidly growing market, with new shows being released all the time. This can make it difficult for anime fans to find new shows to watch that they will enjoy. Additionally, most streaming services do not offer personalized recommendations, which can lead to users wasting time scrolling through an endless list of shows that they are not interested in.\n",
    "With this project, I aim to build a recommendation system that will help anime fans discover new shows that they will enjoy. The recommendation system will use a variety of factors to make recommendations, including the user's past viewing history, the user's ratings of other shows, and the user's genre preferences. \n",
    "This recommendation system  will give a curated list to its users based on content preference and similar user's pick that will save time and provide a superb experience both novel and familiar to users. "
   ]
  },
  {
   "attachments": {},
   "cell_type": "markdown",
   "metadata": {},
   "source": [
    "## Collaborative Filtering"
   ]
  },
  {
   "cell_type": "code",
   "execution_count": 1,
   "metadata": {},
   "outputs": [],
   "source": [
    "import pandas as pd\n",
    "from surprise import Dataset, Reader, accuracy\n",
    "from surprise.model_selection import cross_validate, GridSearchCV, train_test_split\n",
    "from surprise.prediction_algorithms import SVD, SVDpp, NMF, BaselineOnly, NormalPredictor\n",
    "import matplotlib.pyplot as plt\n",
    "%matplotlib inline"
   ]
  },
  {
   "cell_type": "code",
   "execution_count": 2,
   "metadata": {},
   "outputs": [
    {
     "data": {
      "text/html": [
       "<div>\n",
       "<style scoped>\n",
       "    .dataframe tbody tr th:only-of-type {\n",
       "        vertical-align: middle;\n",
       "    }\n",
       "\n",
       "    .dataframe tbody tr th {\n",
       "        vertical-align: top;\n",
       "    }\n",
       "\n",
       "    .dataframe thead th {\n",
       "        text-align: right;\n",
       "    }\n",
       "</style>\n",
       "<table border=\"1\" class=\"dataframe\">\n",
       "  <thead>\n",
       "    <tr style=\"text-align: right;\">\n",
       "      <th></th>\n",
       "      <th>Unnamed: 0</th>\n",
       "      <th>user_id</th>\n",
       "      <th>anime_id</th>\n",
       "      <th>rating</th>\n",
       "    </tr>\n",
       "  </thead>\n",
       "  <tbody>\n",
       "    <tr>\n",
       "      <th>0</th>\n",
       "      <td>47</td>\n",
       "      <td>1</td>\n",
       "      <td>8074</td>\n",
       "      <td>10</td>\n",
       "    </tr>\n",
       "    <tr>\n",
       "      <th>1</th>\n",
       "      <td>81</td>\n",
       "      <td>1</td>\n",
       "      <td>11617</td>\n",
       "      <td>10</td>\n",
       "    </tr>\n",
       "    <tr>\n",
       "      <th>2</th>\n",
       "      <td>83</td>\n",
       "      <td>1</td>\n",
       "      <td>11757</td>\n",
       "      <td>10</td>\n",
       "    </tr>\n",
       "    <tr>\n",
       "      <th>3</th>\n",
       "      <td>101</td>\n",
       "      <td>1</td>\n",
       "      <td>15451</td>\n",
       "      <td>10</td>\n",
       "    </tr>\n",
       "    <tr>\n",
       "      <th>4</th>\n",
       "      <td>153</td>\n",
       "      <td>2</td>\n",
       "      <td>11771</td>\n",
       "      <td>10</td>\n",
       "    </tr>\n",
       "    <tr>\n",
       "      <th>...</th>\n",
       "      <td>...</td>\n",
       "      <td>...</td>\n",
       "      <td>...</td>\n",
       "      <td>...</td>\n",
       "    </tr>\n",
       "    <tr>\n",
       "      <th>6337236</th>\n",
       "      <td>7813732</td>\n",
       "      <td>73515</td>\n",
       "      <td>16512</td>\n",
       "      <td>7</td>\n",
       "    </tr>\n",
       "    <tr>\n",
       "      <th>6337237</th>\n",
       "      <td>7813733</td>\n",
       "      <td>73515</td>\n",
       "      <td>17187</td>\n",
       "      <td>9</td>\n",
       "    </tr>\n",
       "    <tr>\n",
       "      <th>6337238</th>\n",
       "      <td>7813734</td>\n",
       "      <td>73515</td>\n",
       "      <td>22145</td>\n",
       "      <td>10</td>\n",
       "    </tr>\n",
       "    <tr>\n",
       "      <th>6337239</th>\n",
       "      <td>7813735</td>\n",
       "      <td>73516</td>\n",
       "      <td>790</td>\n",
       "      <td>9</td>\n",
       "    </tr>\n",
       "    <tr>\n",
       "      <th>6337240</th>\n",
       "      <td>7813736</td>\n",
       "      <td>73516</td>\n",
       "      <td>8074</td>\n",
       "      <td>9</td>\n",
       "    </tr>\n",
       "  </tbody>\n",
       "</table>\n",
       "<p>6337241 rows × 4 columns</p>\n",
       "</div>"
      ],
      "text/plain": [
       "         Unnamed: 0  user_id  anime_id  rating\n",
       "0                47        1      8074      10\n",
       "1                81        1     11617      10\n",
       "2                83        1     11757      10\n",
       "3               101        1     15451      10\n",
       "4               153        2     11771      10\n",
       "...             ...      ...       ...     ...\n",
       "6337236     7813732    73515     16512       7\n",
       "6337237     7813733    73515     17187       9\n",
       "6337238     7813734    73515     22145      10\n",
       "6337239     7813735    73516       790       9\n",
       "6337240     7813736    73516      8074       9\n",
       "\n",
       "[6337241 rows x 4 columns]"
      ]
     },
     "execution_count": 2,
     "metadata": {},
     "output_type": "execute_result"
    }
   ],
   "source": [
    "reviews = pd.read_csv('Data/cleaned_reviews.csv')\n",
    "reviews"
   ]
  },
  {
   "cell_type": "code",
   "execution_count": 3,
   "metadata": {},
   "outputs": [
    {
     "data": {
      "text/plain": [
       "(6337241, 4)"
      ]
     },
     "execution_count": 3,
     "metadata": {},
     "output_type": "execute_result"
    }
   ],
   "source": [
    "reviews.shape"
   ]
  },
  {
   "cell_type": "code",
   "execution_count": 4,
   "metadata": {},
   "outputs": [
    {
     "data": {
      "text/html": [
       "<div>\n",
       "<style scoped>\n",
       "    .dataframe tbody tr th:only-of-type {\n",
       "        vertical-align: middle;\n",
       "    }\n",
       "\n",
       "    .dataframe tbody tr th {\n",
       "        vertical-align: top;\n",
       "    }\n",
       "\n",
       "    .dataframe thead th {\n",
       "        text-align: right;\n",
       "    }\n",
       "</style>\n",
       "<table border=\"1\" class=\"dataframe\">\n",
       "  <thead>\n",
       "    <tr style=\"text-align: right;\">\n",
       "      <th></th>\n",
       "      <th>Unnamed: 0</th>\n",
       "      <th>anime_id</th>\n",
       "      <th>rating</th>\n",
       "    </tr>\n",
       "    <tr>\n",
       "      <th>user_id</th>\n",
       "      <th></th>\n",
       "      <th></th>\n",
       "      <th></th>\n",
       "    </tr>\n",
       "  </thead>\n",
       "  <tbody>\n",
       "    <tr>\n",
       "      <th>34856</th>\n",
       "      <td>1</td>\n",
       "      <td>1</td>\n",
       "      <td>1</td>\n",
       "    </tr>\n",
       "    <tr>\n",
       "      <th>52656</th>\n",
       "      <td>1</td>\n",
       "      <td>1</td>\n",
       "      <td>1</td>\n",
       "    </tr>\n",
       "    <tr>\n",
       "      <th>52654</th>\n",
       "      <td>1</td>\n",
       "      <td>1</td>\n",
       "      <td>1</td>\n",
       "    </tr>\n",
       "    <tr>\n",
       "      <th>3859</th>\n",
       "      <td>1</td>\n",
       "      <td>1</td>\n",
       "      <td>1</td>\n",
       "    </tr>\n",
       "    <tr>\n",
       "      <th>52641</th>\n",
       "      <td>1</td>\n",
       "      <td>1</td>\n",
       "      <td>1</td>\n",
       "    </tr>\n",
       "    <tr>\n",
       "      <th>...</th>\n",
       "      <td>...</td>\n",
       "      <td>...</td>\n",
       "      <td>...</td>\n",
       "    </tr>\n",
       "    <tr>\n",
       "      <th>51693</th>\n",
       "      <td>2621</td>\n",
       "      <td>2621</td>\n",
       "      <td>2621</td>\n",
       "    </tr>\n",
       "    <tr>\n",
       "      <th>59643</th>\n",
       "      <td>2632</td>\n",
       "      <td>2632</td>\n",
       "      <td>2632</td>\n",
       "    </tr>\n",
       "    <tr>\n",
       "      <th>57620</th>\n",
       "      <td>2689</td>\n",
       "      <td>2689</td>\n",
       "      <td>2689</td>\n",
       "    </tr>\n",
       "    <tr>\n",
       "      <th>53698</th>\n",
       "      <td>2905</td>\n",
       "      <td>2905</td>\n",
       "      <td>2905</td>\n",
       "    </tr>\n",
       "    <tr>\n",
       "      <th>42635</th>\n",
       "      <td>3747</td>\n",
       "      <td>3747</td>\n",
       "      <td>3747</td>\n",
       "    </tr>\n",
       "  </tbody>\n",
       "</table>\n",
       "<p>69600 rows × 3 columns</p>\n",
       "</div>"
      ],
      "text/plain": [
       "         Unnamed: 0  anime_id  rating\n",
       "user_id                              \n",
       "34856             1         1       1\n",
       "52656             1         1       1\n",
       "52654             1         1       1\n",
       "3859              1         1       1\n",
       "52641             1         1       1\n",
       "...             ...       ...     ...\n",
       "51693          2621      2621    2621\n",
       "59643          2632      2632    2632\n",
       "57620          2689      2689    2689\n",
       "53698          2905      2905    2905\n",
       "42635          3747      3747    3747\n",
       "\n",
       "[69600 rows x 3 columns]"
      ]
     },
     "execution_count": 4,
     "metadata": {},
     "output_type": "execute_result"
    }
   ],
   "source": [
    "reviews.groupby('user_id').count().sort_values(by='rating')"
   ]
  },
  {
   "cell_type": "code",
   "execution_count": 5,
   "metadata": {},
   "outputs": [
    {
     "name": "stdout",
     "output_type": "stream",
     "text": [
      "<class 'pandas.core.frame.DataFrame'>\n",
      "RangeIndex: 6337241 entries, 0 to 6337240\n",
      "Data columns (total 4 columns):\n",
      " #   Column      Dtype\n",
      "---  ------      -----\n",
      " 0   Unnamed: 0  int64\n",
      " 1   user_id     int64\n",
      " 2   anime_id    int64\n",
      " 3   rating      int64\n",
      "dtypes: int64(4)\n",
      "memory usage: 193.4 MB\n"
     ]
    }
   ],
   "source": [
    "reviews.info()"
   ]
  },
  {
   "cell_type": "code",
   "execution_count": 6,
   "metadata": {},
   "outputs": [
    {
     "data": {
      "text/plain": [
       "Unnamed: 0    0\n",
       "user_id       0\n",
       "anime_id      0\n",
       "rating        0\n",
       "dtype: int64"
      ]
     },
     "execution_count": 6,
     "metadata": {},
     "output_type": "execute_result"
    }
   ],
   "source": [
    "reviews.isna().sum()"
   ]
  },
  {
   "cell_type": "code",
   "execution_count": 7,
   "metadata": {},
   "outputs": [],
   "source": [
    "reader = Reader(rating_scale=(1, 10))\n",
    "\n",
    "users = Dataset.load_from_df(reviews[['user_id', 'anime_id', 'rating']], reader)\n",
    "\n",
    "trainset, testset = train_test_split(users, test_size=0.25, random_state=42)"
   ]
  },
  {
   "attachments": {},
   "cell_type": "markdown",
   "metadata": {},
   "source": [
    "### Baseline Models"
   ]
  },
  {
   "cell_type": "code",
   "execution_count": 8,
   "metadata": {},
   "outputs": [
    {
     "name": "stdout",
     "output_type": "stream",
     "text": [
      "RMSE: 2.1476\n"
     ]
    }
   ],
   "source": [
    "baseline_normal = NormalPredictor()\n",
    "baseline_normal.fit(trainset)\n",
    "\n",
    "predictions = baseline_normal.test(testset)\n",
    "\n",
    "normal_acc = accuracy.rmse(predictions)"
   ]
  },
  {
   "cell_type": "code",
   "execution_count": 9,
   "metadata": {},
   "outputs": [
    {
     "name": "stdout",
     "output_type": "stream",
     "text": [
      "Estimating biases using als...\n",
      "RMSE: 1.2070\n"
     ]
    }
   ],
   "source": [
    "# instantiating model\n",
    "baseline_only = BaselineOnly()\n",
    "baseline_only.fit(trainset)\n",
    "\n",
    "# saving test predictions\n",
    "predictions = baseline_only.test(testset)\n",
    "\n",
    "base_acc = accuracy.rmse(predictions)"
   ]
  },
  {
   "attachments": {},
   "cell_type": "markdown",
   "metadata": {},
   "source": [
    "### Single Value Decomposition"
   ]
  },
  {
   "cell_type": "code",
   "execution_count": 10,
   "metadata": {},
   "outputs": [
    {
     "name": "stdout",
     "output_type": "stream",
     "text": [
      "Evaluating RMSE of algorithm SVD on 5 split(s).\n",
      "\n",
      "                  Fold 1  Fold 2  Fold 3  Fold 4  Fold 5  Mean    Std     \n",
      "RMSE (testset)    1.1338  1.1336  1.1347  1.1317  1.1352  1.1338  0.0012  \n",
      "Fit time          270.97  261.93  266.40  263.06  263.96  265.27  3.21    \n",
      "Test time         12.47   11.89   12.14   11.84   10.64   11.80   0.62    \n"
     ]
    }
   ],
   "source": [
    "svd_base = SVD(random_state=42)\n",
    "\n",
    "results = cross_validate(svd_base, users, measures=['RMSE'], cv=3, n_jobs = -1, verbose=True)"
   ]
  },
  {
   "cell_type": "code",
   "execution_count": 11,
   "metadata": {},
   "outputs": [
    {
     "name": "stdout",
     "output_type": "stream",
     "text": [
      "RMSE: 1.1397\n"
     ]
    }
   ],
   "source": [
    "# fitting trainset\n",
    "svd_base.fit(trainset)\n",
    "\n",
    "# saving test predictions\n",
    "predictions = svd_base.test(testset)\n",
    "\n",
    "svd_base_acc = accuracy.rmse(predictions)"
   ]
  },
  {
   "attachments": {},
   "cell_type": "markdown",
   "metadata": {},
   "source": [
    "The simple SVD is slightly better than the baseline model with a RMSE reduction of approximately 0.067 and from the normal predictor of approximately 1.008. I will use grid searches to determine the best hyperparameters for the model."
   ]
  },
  {
   "attachments": {},
   "cell_type": "markdown",
   "metadata": {},
   "source": [
    "### SVD and Grid Searches"
   ]
  },
  {
   "cell_type": "code",
   "execution_count": 12,
   "metadata": {},
   "outputs": [
    {
     "name": "stderr",
     "output_type": "stream",
     "text": [
      "[Parallel(n_jobs=-1)]: Using backend LokyBackend with 12 concurrent workers.\n",
      "[Parallel(n_jobs=-1)]: Done   1 tasks      | elapsed:  1.0min\n",
      "[Parallel(n_jobs=-1)]: Done   8 tasks      | elapsed:  1.9min\n",
      "[Parallel(n_jobs=-1)]: Done  17 tasks      | elapsed:  3.8min\n",
      "[Parallel(n_jobs=-1)]: Done  22 out of  40 | elapsed:  4.4min remaining:  3.6min\n",
      "[Parallel(n_jobs=-1)]: Done  27 out of  40 | elapsed:  5.2min remaining:  2.5min\n",
      "[Parallel(n_jobs=-1)]: Done  32 out of  40 | elapsed:  6.8min remaining:  1.7min\n",
      "[Parallel(n_jobs=-1)]: Done  37 out of  40 | elapsed:  7.3min remaining:   35.2s\n",
      "[Parallel(n_jobs=-1)]: Done  40 out of  40 | elapsed:  7.5min finished\n"
     ]
    },
    {
     "data": {
      "text/plain": [
       "{'n_factors': 10, 'n_epochs': 20, 'biased': True}"
      ]
     },
     "execution_count": 12,
     "metadata": {},
     "output_type": "execute_result"
    }
   ],
   "source": [
    "params_1 = {'n_factors':[5, 10], 'n_epochs': [10, 20], 'biased': [True, False]}\n",
    "\n",
    "svd_grid_1 = GridSearchCV(SVD,param_grid=params_1,joblib_verbose=10, n_jobs=-1, cv=3)\n",
    "\n",
    "svd_grid_1.fit(users)\n",
    "\n",
    "svd_grid_1.best_params['rmse']"
   ]
  },
  {
   "cell_type": "code",
   "execution_count": 13,
   "metadata": {},
   "outputs": [
    {
     "name": "stdout",
     "output_type": "stream",
     "text": [
      "RMSE: 1.1382\n"
     ]
    }
   ],
   "source": [
    "# instantiating model with best params from search\n",
    "svd_1 = SVD(n_factors=10, n_epochs=20, random_state=42)\n",
    "\n",
    "# fitting to train set\n",
    "svd_1.fit(trainset)\n",
    "\n",
    "# getting test predictions\n",
    "predictions = svd_1.test(testset)\n",
    "\n",
    "# calculating and saving rmse\n",
    "svd_1_acc = accuracy.rmse(predictions)"
   ]
  },
  {
   "attachments": {},
   "cell_type": "markdown",
   "metadata": {},
   "source": [
    "This model is doing only slightly better than the simple SVD with the best hyperparameters found in the fist grid search. I will add more paramerters in the dictionary next."
   ]
  },
  {
   "cell_type": "code",
   "execution_count": 14,
   "metadata": {},
   "outputs": [
    {
     "name": "stderr",
     "output_type": "stream",
     "text": [
      "[Parallel(n_jobs=-1)]: Using backend LokyBackend with 12 concurrent workers.\n",
      "[Parallel(n_jobs=-1)]: Done   1 tasks      | elapsed:  2.1min\n",
      "[Parallel(n_jobs=-1)]: Done   8 tasks      | elapsed:  3.3min\n",
      "[Parallel(n_jobs=-1)]: Done  17 tasks      | elapsed:  5.4min\n",
      "[Parallel(n_jobs=-1)]: Done  26 tasks      | elapsed:  9.4min\n",
      "[Parallel(n_jobs=-1)]: Done  37 tasks      | elapsed: 13.0min\n",
      "[Parallel(n_jobs=-1)]: Done  48 tasks      | elapsed: 16.1min\n",
      "[Parallel(n_jobs=-1)]: Done  66 out of  80 | elapsed: 22.7min remaining:  4.8min\n",
      "[Parallel(n_jobs=-1)]: Done  75 out of  80 | elapsed: 27.1min remaining:  1.8min\n",
      "[Parallel(n_jobs=-1)]: Done  80 out of  80 | elapsed: 27.6min finished\n"
     ]
    },
    {
     "data": {
      "text/plain": [
       "{'n_factors': 20, 'n_epochs': 20, 'lr_all': 0.005, 'reg_all': 0.02}"
      ]
     },
     "execution_count": 14,
     "metadata": {},
     "output_type": "execute_result"
    }
   ],
   "source": [
    "# new gridsearch \n",
    "params_2 = {'n_factors':[10, 20], 'n_epochs': [20, 40],'lr_all': [0.05, .005], \n",
    "            'reg_all': [0.01, 0.02]}\n",
    "\n",
    "svd_grid_2 = GridSearchCV(SVD,param_grid=params_2,joblib_verbose=10, n_jobs=-1, cv=3)\n",
    "\n",
    "\n",
    "svd_grid_2.fit(users)\n",
    "svd_grid_2.best_params['rmse']"
   ]
  },
  {
   "cell_type": "code",
   "execution_count": 15,
   "metadata": {},
   "outputs": [
    {
     "name": "stdout",
     "output_type": "stream",
     "text": [
      "RMSE: 1.1365\n"
     ]
    }
   ],
   "source": [
    "# new model with best params from second gridsearch\n",
    "svd_2 = SVD(n_factors=20, n_epochs=20, lr_all=0.005, reg_all=0.02, random_state=42)\n",
    "\n",
    "# fitting to train set\n",
    "svd_2.fit(trainset)\n",
    "\n",
    "# getting test predictions\n",
    "predictions = svd_2.test(testset)\n",
    "\n",
    "# calculating and saving rmse\n",
    "svd_2_acc = accuracy.rmse(predictions)"
   ]
  },
  {
   "attachments": {},
   "cell_type": "markdown",
   "metadata": {},
   "source": [
    "This search shows some slight improvement compared to the previous one and the baseline models. I will continue grid searching with different parameters to determine if I can improve the RMSE further."
   ]
  },
  {
   "cell_type": "code",
   "execution_count": 16,
   "metadata": {},
   "outputs": [
    {
     "name": "stderr",
     "output_type": "stream",
     "text": [
      "[Parallel(n_jobs=-1)]: Using backend LokyBackend with 12 concurrent workers.\n",
      "[Parallel(n_jobs=-1)]: Done   1 tasks      | elapsed:  2.6min\n",
      "[Parallel(n_jobs=-1)]: Done   8 tasks      | elapsed:  3.8min\n",
      "[Parallel(n_jobs=-1)]: Done  17 tasks      | elapsed:  6.4min\n",
      "[Parallel(n_jobs=-1)]: Done  26 tasks      | elapsed:  9.0min\n",
      "[Parallel(n_jobs=-1)]: Done  37 tasks      | elapsed: 12.4min\n",
      "[Parallel(n_jobs=-1)]: Done  48 tasks      | elapsed: 14.9min\n",
      "[Parallel(n_jobs=-1)]: Done  61 tasks      | elapsed: 19.6min\n",
      "[Parallel(n_jobs=-1)]: Done  74 tasks      | elapsed: 23.6min\n",
      "[Parallel(n_jobs=-1)]: Done  89 tasks      | elapsed: 27.7min\n",
      "[Parallel(n_jobs=-1)]: Done 110 out of 120 | elapsed: 35.9min remaining:  3.3min\n",
      "[Parallel(n_jobs=-1)]: Done 120 out of 120 | elapsed: 38.1min finished\n"
     ]
    },
    {
     "data": {
      "text/plain": [
       "{'n_factors': 30, 'n_epochs': 25, 'lr_all': 0.005, 'reg_all': 0.03}"
      ]
     },
     "execution_count": 16,
     "metadata": {},
     "output_type": "execute_result"
    }
   ],
   "source": [
    "# new gridsearch \n",
    "params_3 = {'n_factors':[20,30],'n_epochs': [20,25],'lr_all': [0.05, .005, 0.001],\n",
    "            'reg_all': [0.02, 0.03]}\n",
    "\n",
    "svd_grid_3 = GridSearchCV(SVD,param_grid=params_3,joblib_verbose=10, n_jobs=-1, cv=3)\n",
    "\n",
    "\n",
    "svd_grid_3.fit(users)\n",
    "svd_grid_3.best_params['rmse']"
   ]
  },
  {
   "cell_type": "code",
   "execution_count": 17,
   "metadata": {},
   "outputs": [
    {
     "name": "stdout",
     "output_type": "stream",
     "text": [
      "RMSE: 1.1293\n"
     ]
    }
   ],
   "source": [
    "# new model with best params from second gridsearch\n",
    "svd_3 = SVD(n_factors=30, n_epochs=25, lr_all=0.005, reg_all=0.03, random_state=42)\n",
    "\n",
    "# fitting to train set\n",
    "svd_3.fit(trainset)\n",
    "\n",
    "# getting test predictions\n",
    "predictions = svd_3.test(testset)\n",
    "\n",
    "# calculating and saving rmse\n",
    "svd_3_acc = accuracy.rmse(predictions)"
   ]
  },
  {
   "attachments": {},
   "cell_type": "markdown",
   "metadata": {},
   "source": [
    "The RMSE seems to be improving slightly. To be certain, I will run one more search to determine the best model."
   ]
  },
  {
   "cell_type": "code",
   "execution_count": 18,
   "metadata": {},
   "outputs": [
    {
     "name": "stderr",
     "output_type": "stream",
     "text": [
      "[Parallel(n_jobs=-1)]: Using backend LokyBackend with 12 concurrent workers.\n",
      "[Parallel(n_jobs=-1)]: Done   1 tasks      | elapsed:  3.8min\n",
      "[Parallel(n_jobs=-1)]: Done   8 tasks      | elapsed:  5.1min\n",
      "[Parallel(n_jobs=-1)]: Done  17 tasks      | elapsed:  8.9min\n",
      "[Parallel(n_jobs=-1)]: Done  26 tasks      | elapsed: 13.3min\n",
      "[Parallel(n_jobs=-1)]: Done  37 tasks      | elapsed: 18.3min\n",
      "[Parallel(n_jobs=-1)]: Done  48 tasks      | elapsed: 20.8min\n",
      "[Parallel(n_jobs=-1)]: Done  66 out of  80 | elapsed: 30.2min remaining:  6.4min\n",
      "[Parallel(n_jobs=-1)]: Done  75 out of  80 | elapsed: 34.6min remaining:  2.3min\n",
      "[Parallel(n_jobs=-1)]: Done  80 out of  80 | elapsed: 35.2min finished\n"
     ]
    },
    {
     "data": {
      "text/plain": [
       "{'n_factors': 40, 'n_epochs': 30, 'lr_all': 0.005, 'reg_all': 0.05}"
      ]
     },
     "execution_count": 18,
     "metadata": {},
     "output_type": "execute_result"
    }
   ],
   "source": [
    "params_4 = {'n_factors':[30,40],'n_epochs': [25,30],'lr_all': [0.005, .001],\n",
    "            'reg_all': [0.03, 0.05]}\n",
    "\n",
    "svd_grid_4 = GridSearchCV(SVD,param_grid=params_4,joblib_verbose=10, n_jobs=-1, cv=3)\n",
    "\n",
    "\n",
    "svd_grid_4.fit(users)\n",
    "svd_grid_4.best_params['rmse']"
   ]
  },
  {
   "cell_type": "code",
   "execution_count": 19,
   "metadata": {},
   "outputs": [
    {
     "name": "stdout",
     "output_type": "stream",
     "text": [
      "RMSE: 1.1209\n"
     ]
    }
   ],
   "source": [
    "# new model with best params from second gridsearch\n",
    "svd_4 = SVD(n_factors=40, n_epochs=30, lr_all=0.005, reg_all=0.05, random_state=42)\n",
    "\n",
    "# fitting to train set\n",
    "svd_4.fit(trainset)\n",
    "\n",
    "# getting test predictions\n",
    "predictions = svd_4.test(testset)\n",
    "\n",
    "# calculating and saving rmse\n",
    "svd_4_acc = accuracy.rmse(predictions)"
   ]
  },
  {
   "attachments": {},
   "cell_type": "markdown",
   "metadata": {},
   "source": [
    "The RMSE is only slightly smaller than before. I decided to stop the search here and compare SVD 2 to NMF and SVDPP before testing the model."
   ]
  },
  {
   "attachments": {},
   "cell_type": "markdown",
   "metadata": {},
   "source": [
    "### Non-Negative Matrix Factorization (NMF) Grid Seach "
   ]
  },
  {
   "cell_type": "code",
   "execution_count": 10,
   "metadata": {},
   "outputs": [
    {
     "name": "stderr",
     "output_type": "stream",
     "text": [
      "[Parallel(n_jobs=-1)]: Using backend LokyBackend with 12 concurrent workers.\n",
      "[Parallel(n_jobs=-1)]: Done   1 tasks      | elapsed:  1.9min\n",
      "[Parallel(n_jobs=-1)]: Done   4 out of  24 | elapsed:  2.4min remaining: 11.9min\n",
      "[Parallel(n_jobs=-1)]: Done   7 out of  24 | elapsed:  3.5min remaining:  8.6min\n",
      "[Parallel(n_jobs=-1)]: Done  10 out of  24 | elapsed:  4.0min remaining:  5.6min\n",
      "[Parallel(n_jobs=-1)]: Done  13 out of  24 | elapsed:  4.7min remaining:  4.0min\n",
      "[Parallel(n_jobs=-1)]: Done  16 out of  24 | elapsed:  5.0min remaining:  2.5min\n",
      "[Parallel(n_jobs=-1)]: Done  19 out of  24 | elapsed:  6.7min remaining:  1.7min\n",
      "[Parallel(n_jobs=-1)]: Done  22 out of  24 | elapsed:  6.9min remaining:   37.5s\n",
      "[Parallel(n_jobs=-1)]: Done  24 out of  24 | elapsed:  7.0min finished\n"
     ]
    },
    {
     "data": {
      "text/plain": [
       "{'n_factors': 5, 'n_epochs': 30, 'biased': True}"
      ]
     },
     "execution_count": 10,
     "metadata": {},
     "output_type": "execute_result"
    }
   ],
   "source": [
    "# setting up serach for nmf\n",
    "nmf_params_1 = {'n_factors':[5, 10],\n",
    "             'n_epochs':[20, 30],\n",
    "             'biased': [True, False]}\n",
    "\n",
    "nmf_grid_1 = GridSearchCV(NMF, param_grid=nmf_params_1, cv=3, joblib_verbose=10, n_jobs=-1)\n",
    "\n",
    "\n",
    "nmf_grid_1.fit(users)\n",
    "nmf_grid_1.best_params['rmse']"
   ]
  },
  {
   "cell_type": "code",
   "execution_count": 11,
   "metadata": {},
   "outputs": [
    {
     "name": "stdout",
     "output_type": "stream",
     "text": [
      "RMSE: 1.2067\n"
     ]
    }
   ],
   "source": [
    "nmf_1 = NMF(n_factors=5, n_epochs=30, random_state=42, biased=True)\n",
    "nmf_1.fit(trainset)\n",
    "predictions = nmf_1.test(testset)\n",
    "nmf_1_acc = accuracy.rmse(predictions)"
   ]
  },
  {
   "attachments": {},
   "cell_type": "markdown",
   "metadata": {},
   "source": [
    "This model perfoms worse than all the SVD models with a slighly higher RMSE."
   ]
  },
  {
   "attachments": {},
   "cell_type": "markdown",
   "metadata": {},
   "source": [
    "### SVDPP & Grid Search"
   ]
  },
  {
   "cell_type": "code",
   "execution_count": 12,
   "metadata": {},
   "outputs": [
    {
     "name": "stderr",
     "output_type": "stream",
     "text": [
      "[Parallel(n_jobs=-1)]: Using backend LokyBackend with 12 concurrent workers.\n"
     ]
    }
   ],
   "source": [
    "svdpp_params = {'n_factors':[1, 5],\n",
    "                    'n_epochs':[25, 50],\n",
    "                    'reg_all':[0.02, 0.05]}\n",
    "svdpp_grid_1 = GridSearchCV(SVDpp, param_grid=svdpp_params, cv=3, joblib_verbose=10, n_jobs=-1)\n",
    "\n",
    "svdpp_grid_1.fit(users)\n",
    "svdpp_grid_1.best_params['rmse']"
   ]
  },
  {
   "cell_type": "code",
   "execution_count": 345,
   "metadata": {},
   "outputs": [
    {
     "name": "stdout",
     "output_type": "stream",
     "text": [
      "RMSE: 1.6096\n"
     ]
    }
   ],
   "source": [
    "svdpp_1 = SVDpp(n_factors=5, n_epochs=50, reg_all=0.02, random_state=42,)\n",
    "svdpp_1.fit(trainset)\n",
    "predictions = svdpp_1.test(testset)\n",
    "svdpp_1_acc = accuracy.rmse(predictions)"
   ]
  },
  {
   "attachments": {},
   "cell_type": "markdown",
   "metadata": {},
   "source": [
    "### Model Comparison\n",
    "After many iterations of SVD models, model 2 achived the lowest RMSE of 1.531 and will be used as the final model for recommendations. I compared this RMSE to the results from the Normal and Baseline Only predictions used as baselines that had RMSEs of 3.095 and 1.962, respectively. "
   ]
  },
  {
   "cell_type": "code",
   "execution_count": 20,
   "metadata": {},
   "outputs": [
    {
     "ename": "NameError",
     "evalue": "name 'nmf_1_acc' is not defined",
     "output_type": "error",
     "traceback": [
      "\u001b[1;31m---------------------------------------------------------------------------\u001b[0m",
      "\u001b[1;31mNameError\u001b[0m                                 Traceback (most recent call last)",
      "\u001b[1;32m<ipython-input-20-c87f574bcadd>\u001b[0m in \u001b[0;36m<module>\u001b[1;34m\u001b[0m\n\u001b[0;32m      1\u001b[0m \u001b[0mX\u001b[0m \u001b[1;33m=\u001b[0m \u001b[1;33m[\u001b[0m\u001b[1;34m'Baseline'\u001b[0m\u001b[1;33m,\u001b[0m \u001b[1;34m'SVD Basic'\u001b[0m\u001b[1;33m,\u001b[0m \u001b[1;34m'SVD 2'\u001b[0m\u001b[1;33m,\u001b[0m \u001b[1;34m'NMF'\u001b[0m\u001b[1;33m,\u001b[0m \u001b[1;34m'SVDpp'\u001b[0m\u001b[1;33m]\u001b[0m\u001b[1;33m\u001b[0m\u001b[1;33m\u001b[0m\u001b[0m\n\u001b[1;32m----> 2\u001b[1;33m \u001b[0my\u001b[0m \u001b[1;33m=\u001b[0m \u001b[1;33m[\u001b[0m\u001b[0mnormal_acc\u001b[0m\u001b[1;33m,\u001b[0m \u001b[0msvd_base_acc\u001b[0m\u001b[1;33m,\u001b[0m \u001b[0msvd_2_acc\u001b[0m\u001b[1;33m,\u001b[0m \u001b[0mnmf_1_acc\u001b[0m\u001b[1;33m,\u001b[0m \u001b[0msvdpp_1_acc\u001b[0m\u001b[1;33m]\u001b[0m\u001b[1;33m\u001b[0m\u001b[1;33m\u001b[0m\u001b[0m\n\u001b[0m",
      "\u001b[1;31mNameError\u001b[0m: name 'nmf_1_acc' is not defined"
     ]
    }
   ],
   "source": [
    "X = ['Baseline', 'SVD Basic', 'SVD 2', 'NMF', 'SVDpp']\n",
    "y = [normal_acc, svd_base_acc, svd_2_acc, nmf_1_acc, svdpp_1_acc]"
   ]
  },
  {
   "cell_type": "code",
   "execution_count": 347,
   "metadata": {},
   "outputs": [
    {
     "data": {
      "image/png": "[encoded data removed]",
      "text/plain": [
       "<Figure size 432x288 with 1 Axes>"
      ]
     },
     "metadata": {
      "needs_background": "light"
     },
     "output_type": "display_data"
    }
   ],
   "source": [
    "fig, ax = plt.subplots()\n",
    "plt.bar(X, y, color=['grey', 'blue', 'green', 'blue', 'blue'])\n",
    "plt.xticks(rotation=25)\n",
    "ax.set_title(\"Surprise Models\")\n",
    "plt.ylabel('Root Mean Squared Error (RMSE)')\n",
    "plt.savefig('Images/model_comparison.png', dpi=400);"
   ]
  },
  {
   "attachments": {},
   "cell_type": "markdown",
   "metadata": {},
   "source": [
    "## Building Recommendation Model\n",
    "The following code was sourced from one of my instructor's projects, linked [here](https://github.com/danielburdeno/Kindle-eBook-Recommendations/blob/main/CollaborativeFiltering.ipynb), and adjusted for this model."
   ]
  },
  {
   "cell_type": "code",
   "execution_count": 365,
   "metadata": {},
   "outputs": [
    {
     "data": {
      "text/plain": [
       "<surprise.prediction_algorithms.matrix_factorization.SVD at 0x1690758b1c0>"
      ]
     },
     "execution_count": 365,
     "metadata": {},
     "output_type": "execute_result"
    }
   ],
   "source": [
    "trainset = users.build_full_trainset()\n",
    "svd_2.fit(trainset)"
   ]
  },
  {
   "cell_type": "code",
   "execution_count": 367,
   "metadata": {},
   "outputs": [
    {
     "name": "stdout",
     "output_type": "stream",
     "text": [
      "<class 'pandas.core.frame.DataFrame'>\n",
      "Int64Index: 13854 entries, 28891 to 16934\n",
      "Data columns (total 9 columns):\n",
      " #   Column      Non-Null Count  Dtype  \n",
      "---  ------      --------------  -----  \n",
      " 0   title       13854 non-null  object \n",
      " 1   synopsis    13854 non-null  object \n",
      " 2   genre       13854 non-null  object \n",
      " 3   aired       13854 non-null  object \n",
      " 4   episodes    13854 non-null  float64\n",
      " 5   members     13854 non-null  int64  \n",
      " 6   popularity  13854 non-null  int64  \n",
      " 7   ranked      13854 non-null  float64\n",
      " 8   score       13854 non-null  float64\n",
      "dtypes: float64(3), int64(2), object(4)\n",
      "memory usage: 1.1+ MB\n"
     ]
    }
   ],
   "source": [
    "df_original = pd.read_csv('Data/anime_cleaned.csv', index_col='uid')\n",
    "df_original.drop(columns =['Unnamed: 0'], inplace=True)\n",
    "df_original.info()"
   ]
  },
  {
   "cell_type": "code",
   "execution_count": 368,
   "metadata": {},
   "outputs": [
    {
     "data": {
      "text/html": [
       "<div>\n",
       "<style scoped>\n",
       "    .dataframe tbody tr th:only-of-type {\n",
       "        vertical-align: middle;\n",
       "    }\n",
       "\n",
       "    .dataframe tbody tr th {\n",
       "        vertical-align: top;\n",
       "    }\n",
       "\n",
       "    .dataframe thead th {\n",
       "        text-align: right;\n",
       "    }\n",
       "</style>\n",
       "<table border=\"1\" class=\"dataframe\">\n",
       "  <thead>\n",
       "    <tr style=\"text-align: right;\">\n",
       "      <th></th>\n",
       "      <th>title</th>\n",
       "      <th>synopsis</th>\n",
       "      <th>genre</th>\n",
       "      <th>aired</th>\n",
       "      <th>episodes</th>\n",
       "      <th>members</th>\n",
       "      <th>popularity</th>\n",
       "      <th>ranked</th>\n",
       "      <th>score</th>\n",
       "    </tr>\n",
       "    <tr>\n",
       "      <th>uid</th>\n",
       "      <th></th>\n",
       "      <th></th>\n",
       "      <th></th>\n",
       "      <th></th>\n",
       "      <th></th>\n",
       "      <th></th>\n",
       "      <th></th>\n",
       "      <th></th>\n",
       "      <th></th>\n",
       "    </tr>\n",
       "  </thead>\n",
       "  <tbody>\n",
       "    <tr>\n",
       "      <th>28891</th>\n",
       "      <td>Haikyuu!! Second Season</td>\n",
       "      <td>Following their participation at the Inter-Hig...</td>\n",
       "      <td>['Comedy', 'Sports', 'Drama', 'School', 'Shoun...</td>\n",
       "      <td>Oct 4, 2015 to Mar 27, 2016</td>\n",
       "      <td>25.0</td>\n",
       "      <td>489888</td>\n",
       "      <td>141</td>\n",
       "      <td>25.0</td>\n",
       "      <td>8.82</td>\n",
       "    </tr>\n",
       "    <tr>\n",
       "      <th>23273</th>\n",
       "      <td>Shigatsu wa Kimi no Uso</td>\n",
       "      <td>Music accompanies the path of the human metron...</td>\n",
       "      <td>['Drama', 'Music', 'Romance', 'School', 'Shoun...</td>\n",
       "      <td>Oct 10, 2014 to Mar 20, 2015</td>\n",
       "      <td>22.0</td>\n",
       "      <td>995473</td>\n",
       "      <td>28</td>\n",
       "      <td>24.0</td>\n",
       "      <td>8.83</td>\n",
       "    </tr>\n",
       "    <tr>\n",
       "      <th>34599</th>\n",
       "      <td>Made in Abyss</td>\n",
       "      <td>The Abyss—a gaping chasm stretching down into ...</td>\n",
       "      <td>['Sci-Fi', 'Adventure', 'Mystery', 'Drama', 'F...</td>\n",
       "      <td>Jul 7, 2017 to Sep 29, 2017</td>\n",
       "      <td>13.0</td>\n",
       "      <td>581663</td>\n",
       "      <td>98</td>\n",
       "      <td>23.0</td>\n",
       "      <td>8.83</td>\n",
       "    </tr>\n",
       "    <tr>\n",
       "      <th>5114</th>\n",
       "      <td>Fullmetal Alchemist: Brotherhood</td>\n",
       "      <td>\"In order for something to be obtained, someth...</td>\n",
       "      <td>['Action', 'Military', 'Adventure', 'Comedy', ...</td>\n",
       "      <td>Apr 5, 2009 to Jul 4, 2010</td>\n",
       "      <td>64.0</td>\n",
       "      <td>1615084</td>\n",
       "      <td>4</td>\n",
       "      <td>1.0</td>\n",
       "      <td>9.23</td>\n",
       "    </tr>\n",
       "    <tr>\n",
       "      <th>31758</th>\n",
       "      <td>Kizumonogatari III: Reiketsu-hen</td>\n",
       "      <td>After helping revive the legendary vampire Kis...</td>\n",
       "      <td>['Action', 'Mystery', 'Supernatural', 'Vampire']</td>\n",
       "      <td>Jan 6, 2017</td>\n",
       "      <td>1.0</td>\n",
       "      <td>214621</td>\n",
       "      <td>502</td>\n",
       "      <td>22.0</td>\n",
       "      <td>8.83</td>\n",
       "    </tr>\n",
       "  </tbody>\n",
       "</table>\n",
       "</div>"
      ],
      "text/plain": [
       "                                  title  \\\n",
       "uid                                       \n",
       "28891           Haikyuu!! Second Season   \n",
       "23273           Shigatsu wa Kimi no Uso   \n",
       "34599                     Made in Abyss   \n",
       "5114   Fullmetal Alchemist: Brotherhood   \n",
       "31758  Kizumonogatari III: Reiketsu-hen   \n",
       "\n",
       "                                                synopsis  \\\n",
       "uid                                                        \n",
       "28891  Following their participation at the Inter-Hig...   \n",
       "23273  Music accompanies the path of the human metron...   \n",
       "34599  The Abyss—a gaping chasm stretching down into ...   \n",
       "5114   \"In order for something to be obtained, someth...   \n",
       "31758  After helping revive the legendary vampire Kis...   \n",
       "\n",
       "                                                   genre  \\\n",
       "uid                                                        \n",
       "28891  ['Comedy', 'Sports', 'Drama', 'School', 'Shoun...   \n",
       "23273  ['Drama', 'Music', 'Romance', 'School', 'Shoun...   \n",
       "34599  ['Sci-Fi', 'Adventure', 'Mystery', 'Drama', 'F...   \n",
       "5114   ['Action', 'Military', 'Adventure', 'Comedy', ...   \n",
       "31758   ['Action', 'Mystery', 'Supernatural', 'Vampire']   \n",
       "\n",
       "                              aired  episodes  members  popularity  ranked  \\\n",
       "uid                                                                          \n",
       "28891   Oct 4, 2015 to Mar 27, 2016      25.0   489888         141    25.0   \n",
       "23273  Oct 10, 2014 to Mar 20, 2015      22.0   995473          28    24.0   \n",
       "34599   Jul 7, 2017 to Sep 29, 2017      13.0   581663          98    23.0   \n",
       "5114     Apr 5, 2009 to Jul 4, 2010      64.0  1615084           4     1.0   \n",
       "31758                   Jan 6, 2017       1.0   214621         502    22.0   \n",
       "\n",
       "       score  \n",
       "uid           \n",
       "28891   8.82  \n",
       "23273   8.83  \n",
       "34599   8.83  \n",
       "5114    9.23  \n",
       "31758   8.83  "
      ]
     },
     "execution_count": 368,
     "metadata": {},
     "output_type": "execute_result"
    }
   ],
   "source": [
    "df_original.head()"
   ]
  },
  {
   "cell_type": "code",
   "execution_count": 393,
   "metadata": {},
   "outputs": [
    {
     "data": {
      "text/plain": [
       "title                   Thermae Romae: Kodai Romajin ga Uchuu e\n",
       "synopsis      Lucius ends up in a space station, where he ex...\n",
       "genre                             ['Space', 'Comedy', 'Seinen']\n",
       "aired                                              Apr 20, 2012\n",
       "episodes                                                      1\n",
       "members                                                    1057\n",
       "popularity                                                 9401\n",
       "ranked                                                     8055\n",
       "score                                                      6.09\n",
       "Name: 13983, dtype: object"
      ]
     },
     "execution_count": 393,
     "metadata": {},
     "output_type": "execute_result"
    }
   ],
   "source": [
    "df_original.iloc[1281]"
   ]
  },
  {
   "cell_type": "code",
   "execution_count": 369,
   "metadata": {},
   "outputs": [
    {
     "data": {
      "text/html": [
       "<div>\n",
       "<style scoped>\n",
       "    .dataframe tbody tr th:only-of-type {\n",
       "        vertical-align: middle;\n",
       "    }\n",
       "\n",
       "    .dataframe tbody tr th {\n",
       "        vertical-align: top;\n",
       "    }\n",
       "\n",
       "    .dataframe thead th {\n",
       "        text-align: right;\n",
       "    }\n",
       "</style>\n",
       "<table border=\"1\" class=\"dataframe\">\n",
       "  <thead>\n",
       "    <tr style=\"text-align: right;\">\n",
       "      <th></th>\n",
       "      <th>anime_uid</th>\n",
       "    </tr>\n",
       "    <tr>\n",
       "      <th>uid</th>\n",
       "      <th></th>\n",
       "    </tr>\n",
       "  </thead>\n",
       "  <tbody>\n",
       "    <tr>\n",
       "      <th>255938</th>\n",
       "      <td>34096</td>\n",
       "    </tr>\n",
       "    <tr>\n",
       "      <th>259117</th>\n",
       "      <td>34599</td>\n",
       "    </tr>\n",
       "    <tr>\n",
       "      <th>253664</th>\n",
       "      <td>28891</td>\n",
       "    </tr>\n",
       "    <tr>\n",
       "      <th>8254</th>\n",
       "      <td>2904</td>\n",
       "    </tr>\n",
       "    <tr>\n",
       "      <th>291149</th>\n",
       "      <td>4181</td>\n",
       "    </tr>\n",
       "  </tbody>\n",
       "</table>\n",
       "</div>"
      ],
      "text/plain": [
       "       anime_uid\n",
       "uid             \n",
       "255938     34096\n",
       "259117     34599\n",
       "253664     28891\n",
       "8254        2904\n",
       "291149      4181"
      ]
     },
     "execution_count": 369,
     "metadata": {},
     "output_type": "execute_result"
    }
   ],
   "source": [
    "user_ids = reviews.set_index('uid')\n",
    "user_ids.drop(columns=['score'], inplace=True)\n",
    "user_ids.head()"
   ]
  },
  {
   "cell_type": "code",
   "execution_count": 394,
   "metadata": {},
   "outputs": [
    {
     "data": {
      "text/plain": [
       "anime_uid    object\n",
       "dtype: object"
      ]
     },
     "execution_count": 394,
     "metadata": {},
     "output_type": "execute_result"
    }
   ],
   "source": [
    "user_ids.dtypes"
   ]
  },
  {
   "cell_type": "code",
   "execution_count": 395,
   "metadata": {},
   "outputs": [],
   "source": [
    "user_ids['anime_uid'] = user_ids['anime_uid'].astype(int)"
   ]
  },
  {
   "cell_type": "code",
   "execution_count": 370,
   "metadata": {},
   "outputs": [],
   "source": [
    "user_ids.to_csv('Data/user_anime_df.csv')"
   ]
  },
  {
   "cell_type": "code",
   "execution_count": 413,
   "metadata": {},
   "outputs": [
    {
     "name": "stdout",
     "output_type": "stream",
     "text": [
      "UserID: 321144\n",
      "Number of Recommendations: 5\n"
     ]
    }
   ],
   "source": [
    "user = input('UserID: ')\n",
    "recs = int(input('Number of Recommendations: '))"
   ]
  },
  {
   "cell_type": "code",
   "execution_count": 414,
   "metadata": {},
   "outputs": [
    {
     "data": {
      "text/plain": [
       "[40269, 40269, 40269, 40269]"
      ]
     },
     "execution_count": 414,
     "metadata": {},
     "output_type": "execute_result"
    }
   ],
   "source": [
    "reviewed = list(user_ids.loc[user, 'anime_uid'])\n",
    "reviewed"
   ]
  },
  {
   "cell_type": "code",
   "execution_count": 415,
   "metadata": {},
   "outputs": [
    {
     "data": {
      "text/html": [
       "<div>\n",
       "<style scoped>\n",
       "    .dataframe tbody tr th:only-of-type {\n",
       "        vertical-align: middle;\n",
       "    }\n",
       "\n",
       "    .dataframe tbody tr th {\n",
       "        vertical-align: top;\n",
       "    }\n",
       "\n",
       "    .dataframe thead th {\n",
       "        text-align: right;\n",
       "    }\n",
       "</style>\n",
       "<table border=\"1\" class=\"dataframe\">\n",
       "  <thead>\n",
       "    <tr style=\"text-align: right;\">\n",
       "      <th></th>\n",
       "      <th>uid</th>\n",
       "      <th>title</th>\n",
       "      <th>synopsis</th>\n",
       "      <th>genre</th>\n",
       "      <th>aired</th>\n",
       "      <th>episodes</th>\n",
       "      <th>members</th>\n",
       "      <th>popularity</th>\n",
       "      <th>ranked</th>\n",
       "      <th>score</th>\n",
       "    </tr>\n",
       "  </thead>\n",
       "  <tbody>\n",
       "    <tr>\n",
       "      <th>0</th>\n",
       "      <td>28891</td>\n",
       "      <td>Haikyuu!! Second Season</td>\n",
       "      <td>Following their participation at the Inter-Hig...</td>\n",
       "      <td>['Comedy', 'Sports', 'Drama', 'School', 'Shoun...</td>\n",
       "      <td>Oct 4, 2015 to Mar 27, 2016</td>\n",
       "      <td>25.0</td>\n",
       "      <td>489888</td>\n",
       "      <td>141</td>\n",
       "      <td>25.0</td>\n",
       "      <td>8.82</td>\n",
       "    </tr>\n",
       "    <tr>\n",
       "      <th>1</th>\n",
       "      <td>23273</td>\n",
       "      <td>Shigatsu wa Kimi no Uso</td>\n",
       "      <td>Music accompanies the path of the human metron...</td>\n",
       "      <td>['Drama', 'Music', 'Romance', 'School', 'Shoun...</td>\n",
       "      <td>Oct 10, 2014 to Mar 20, 2015</td>\n",
       "      <td>22.0</td>\n",
       "      <td>995473</td>\n",
       "      <td>28</td>\n",
       "      <td>24.0</td>\n",
       "      <td>8.83</td>\n",
       "    </tr>\n",
       "    <tr>\n",
       "      <th>2</th>\n",
       "      <td>34599</td>\n",
       "      <td>Made in Abyss</td>\n",
       "      <td>The Abyss—a gaping chasm stretching down into ...</td>\n",
       "      <td>['Sci-Fi', 'Adventure', 'Mystery', 'Drama', 'F...</td>\n",
       "      <td>Jul 7, 2017 to Sep 29, 2017</td>\n",
       "      <td>13.0</td>\n",
       "      <td>581663</td>\n",
       "      <td>98</td>\n",
       "      <td>23.0</td>\n",
       "      <td>8.83</td>\n",
       "    </tr>\n",
       "    <tr>\n",
       "      <th>3</th>\n",
       "      <td>5114</td>\n",
       "      <td>Fullmetal Alchemist: Brotherhood</td>\n",
       "      <td>\"In order for something to be obtained, someth...</td>\n",
       "      <td>['Action', 'Military', 'Adventure', 'Comedy', ...</td>\n",
       "      <td>Apr 5, 2009 to Jul 4, 2010</td>\n",
       "      <td>64.0</td>\n",
       "      <td>1615084</td>\n",
       "      <td>4</td>\n",
       "      <td>1.0</td>\n",
       "      <td>9.23</td>\n",
       "    </tr>\n",
       "    <tr>\n",
       "      <th>4</th>\n",
       "      <td>31758</td>\n",
       "      <td>Kizumonogatari III: Reiketsu-hen</td>\n",
       "      <td>After helping revive the legendary vampire Kis...</td>\n",
       "      <td>['Action', 'Mystery', 'Supernatural', 'Vampire']</td>\n",
       "      <td>Jan 6, 2017</td>\n",
       "      <td>1.0</td>\n",
       "      <td>214621</td>\n",
       "      <td>502</td>\n",
       "      <td>22.0</td>\n",
       "      <td>8.83</td>\n",
       "    </tr>\n",
       "  </tbody>\n",
       "</table>\n",
       "</div>"
      ],
      "text/plain": [
       "     uid                             title  \\\n",
       "0  28891           Haikyuu!! Second Season   \n",
       "1  23273           Shigatsu wa Kimi no Uso   \n",
       "2  34599                     Made in Abyss   \n",
       "3   5114  Fullmetal Alchemist: Brotherhood   \n",
       "4  31758  Kizumonogatari III: Reiketsu-hen   \n",
       "\n",
       "                                            synopsis  \\\n",
       "0  Following their participation at the Inter-Hig...   \n",
       "1  Music accompanies the path of the human metron...   \n",
       "2  The Abyss—a gaping chasm stretching down into ...   \n",
       "3  \"In order for something to be obtained, someth...   \n",
       "4  After helping revive the legendary vampire Kis...   \n",
       "\n",
       "                                               genre  \\\n",
       "0  ['Comedy', 'Sports', 'Drama', 'School', 'Shoun...   \n",
       "1  ['Drama', 'Music', 'Romance', 'School', 'Shoun...   \n",
       "2  ['Sci-Fi', 'Adventure', 'Mystery', 'Drama', 'F...   \n",
       "3  ['Action', 'Military', 'Adventure', 'Comedy', ...   \n",
       "4   ['Action', 'Mystery', 'Supernatural', 'Vampire']   \n",
       "\n",
       "                          aired  episodes  members  popularity  ranked  score  \n",
       "0   Oct 4, 2015 to Mar 27, 2016      25.0   489888         141    25.0   8.82  \n",
       "1  Oct 10, 2014 to Mar 20, 2015      22.0   995473          28    24.0   8.83  \n",
       "2   Jul 7, 2017 to Sep 29, 2017      13.0   581663          98    23.0   8.83  \n",
       "3    Apr 5, 2009 to Jul 4, 2010      64.0  1615084           4     1.0   9.23  \n",
       "4                   Jan 6, 2017       1.0   214621         502    22.0   8.83  "
      ]
     },
     "execution_count": 415,
     "metadata": {},
     "output_type": "execute_result"
    }
   ],
   "source": [
    "# original dataset copy to subset on reviewed shows\n",
    "not_reviewed = df_original.copy()\n",
    "not_reviewed.drop(reviewed, inplace=True)\n",
    "not_reviewed.reset_index(inplace=True)\n",
    "not_reviewed.head()"
   ]
  },
  {
   "cell_type": "code",
   "execution_count": 416,
   "metadata": {},
   "outputs": [
    {
     "data": {
      "text/html": [
       "<div>\n",
       "<style scoped>\n",
       "    .dataframe tbody tr th:only-of-type {\n",
       "        vertical-align: middle;\n",
       "    }\n",
       "\n",
       "    .dataframe tbody tr th {\n",
       "        vertical-align: top;\n",
       "    }\n",
       "\n",
       "    .dataframe thead th {\n",
       "        text-align: right;\n",
       "    }\n",
       "</style>\n",
       "<table border=\"1\" class=\"dataframe\">\n",
       "  <thead>\n",
       "    <tr style=\"text-align: right;\">\n",
       "      <th></th>\n",
       "      <th>uid</th>\n",
       "      <th>title</th>\n",
       "      <th>synopsis</th>\n",
       "      <th>genre</th>\n",
       "      <th>aired</th>\n",
       "      <th>episodes</th>\n",
       "      <th>members</th>\n",
       "      <th>popularity</th>\n",
       "      <th>ranked</th>\n",
       "      <th>score</th>\n",
       "      <th>est_rating</th>\n",
       "    </tr>\n",
       "  </thead>\n",
       "  <tbody>\n",
       "    <tr>\n",
       "      <th>0</th>\n",
       "      <td>28891</td>\n",
       "      <td>Haikyuu!! Second Season</td>\n",
       "      <td>Following their participation at the Inter-Hig...</td>\n",
       "      <td>['Comedy', 'Sports', 'Drama', 'School', 'Shoun...</td>\n",
       "      <td>Oct 4, 2015 to Mar 27, 2016</td>\n",
       "      <td>25.0</td>\n",
       "      <td>489888</td>\n",
       "      <td>141</td>\n",
       "      <td>25.0</td>\n",
       "      <td>8.82</td>\n",
       "      <td>6.997509</td>\n",
       "    </tr>\n",
       "    <tr>\n",
       "      <th>9239</th>\n",
       "      <td>24489</td>\n",
       "      <td>Koha Ginjiro</td>\n",
       "      <td>After the death of his elder brother, Ginjiro ...</td>\n",
       "      <td>['Action', 'Drama', 'School', 'Shounen']</td>\n",
       "      <td>May 22, 1991 to Nov 20, 1991</td>\n",
       "      <td>3.0</td>\n",
       "      <td>211</td>\n",
       "      <td>13237</td>\n",
       "      <td>12757.0</td>\n",
       "      <td>5.93</td>\n",
       "      <td>6.997509</td>\n",
       "    </tr>\n",
       "    <tr>\n",
       "      <th>9228</th>\n",
       "      <td>39028</td>\n",
       "      <td>Komatsu Sakyo Anime Gekijou: Tokubetsu-hen</td>\n",
       "      <td>Unaired episodes of  Komatsu Sakyo Anime Gekij...</td>\n",
       "      <td>['Comedy', 'Parody', 'Sci-Fi', 'Space']</td>\n",
       "      <td>Mar 23, 1990 to Jun 22, 1990</td>\n",
       "      <td>3.0</td>\n",
       "      <td>64</td>\n",
       "      <td>16007</td>\n",
       "      <td>12770.0</td>\n",
       "      <td>5.88</td>\n",
       "      <td>6.997509</td>\n",
       "    </tr>\n",
       "    <tr>\n",
       "      <th>9229</th>\n",
       "      <td>26109</td>\n",
       "      <td>Kokoro no Koukyougaku</td>\n",
       "      <td>An educational film about child abuse in Japan.</td>\n",
       "      <td>['Drama', 'Kids']</td>\n",
       "      <td>2002</td>\n",
       "      <td>1.0</td>\n",
       "      <td>113</td>\n",
       "      <td>15049</td>\n",
       "      <td>12766.0</td>\n",
       "      <td>6.83</td>\n",
       "      <td>6.997509</td>\n",
       "    </tr>\n",
       "    <tr>\n",
       "      <th>9230</th>\n",
       "      <td>26293</td>\n",
       "      <td>Kokoro no Hanataba</td>\n",
       "      <td>A sweet story about an old man who went around...</td>\n",
       "      <td>['Kids']</td>\n",
       "      <td>2001</td>\n",
       "      <td>1.0</td>\n",
       "      <td>104</td>\n",
       "      <td>15241</td>\n",
       "      <td>12765.0</td>\n",
       "      <td>7.58</td>\n",
       "      <td>6.997509</td>\n",
       "    </tr>\n",
       "  </tbody>\n",
       "</table>\n",
       "</div>"
      ],
      "text/plain": [
       "        uid                                       title  \\\n",
       "0     28891                     Haikyuu!! Second Season   \n",
       "9239  24489                                Koha Ginjiro   \n",
       "9228  39028  Komatsu Sakyo Anime Gekijou: Tokubetsu-hen   \n",
       "9229  26109                       Kokoro no Koukyougaku   \n",
       "9230  26293                          Kokoro no Hanataba   \n",
       "\n",
       "                                               synopsis  \\\n",
       "0     Following their participation at the Inter-Hig...   \n",
       "9239  After the death of his elder brother, Ginjiro ...   \n",
       "9228  Unaired episodes of  Komatsu Sakyo Anime Gekij...   \n",
       "9229   An educational film about child abuse in Japan.    \n",
       "9230  A sweet story about an old man who went around...   \n",
       "\n",
       "                                                  genre  \\\n",
       "0     ['Comedy', 'Sports', 'Drama', 'School', 'Shoun...   \n",
       "9239           ['Action', 'Drama', 'School', 'Shounen']   \n",
       "9228            ['Comedy', 'Parody', 'Sci-Fi', 'Space']   \n",
       "9229                                  ['Drama', 'Kids']   \n",
       "9230                                           ['Kids']   \n",
       "\n",
       "                             aired  episodes  members  popularity   ranked  \\\n",
       "0      Oct 4, 2015 to Mar 27, 2016      25.0   489888         141     25.0   \n",
       "9239  May 22, 1991 to Nov 20, 1991       3.0      211       13237  12757.0   \n",
       "9228  Mar 23, 1990 to Jun 22, 1990       3.0       64       16007  12770.0   \n",
       "9229                          2002       1.0      113       15049  12766.0   \n",
       "9230                          2001       1.0      104       15241  12765.0   \n",
       "\n",
       "      score  est_rating  \n",
       "0      8.82    6.997509  \n",
       "9239   5.93    6.997509  \n",
       "9228   5.88    6.997509  \n",
       "9229   6.83    6.997509  \n",
       "9230   7.58    6.997509  "
      ]
     },
     "execution_count": 416,
     "metadata": {},
     "output_type": "execute_result"
    }
   ],
   "source": [
    "not_reviewed['est_rating'] = not_reviewed['uid'].apply(lambda x: svd_2.predict(user, x).est)\n",
    "\n",
    "not_reviewed.sort_values(by='est_rating',  ascending=False, inplace=True)\n",
    "not_reviewed.head()"
   ]
  },
  {
   "cell_type": "code",
   "execution_count": 417,
   "metadata": {},
   "outputs": [
    {
     "data": {
      "text/plain": [
       "6.997509    13852\n",
       "Name: est_rating, dtype: int64"
      ]
     },
     "execution_count": 417,
     "metadata": {},
     "output_type": "execute_result"
    }
   ],
   "source": [
    "not_reviewed['est_rating'].value_counts()"
   ]
  },
  {
   "cell_type": "code",
   "execution_count": 387,
   "metadata": {},
   "outputs": [],
   "source": [
    "def anime_rec():\n",
    "    \n",
    "    user = input('UserID: ')\n",
    "    recs = int(input('Number of Recommendations: '))\n",
    "    \n",
    "    reviewed = list(user_ids.loc[user, 'anime_uid'])\n",
    "    \n",
    "    not_reviewed = df_original.copy()\n",
    "    not_reviewed.reset_index(inplace=True)\n",
    "    not_reviewed['est_rating'] = not_reviewed['uid'].apply(lambda x: svd_2.predict(user, x).est)\n",
    "    not_reviewed.sort_values(by='est_rating',  ascending=False, inplace=True)\n",
    "    \n",
    "    return not_reviewed.head(recs)"
   ]
  },
  {
   "cell_type": "code",
   "execution_count": 388,
   "metadata": {
    "scrolled": false
   },
   "outputs": [
    {
     "name": "stdout",
     "output_type": "stream",
     "text": [
      "UserID: 299323\n",
      "Number of Recommendations: 5\n"
     ]
    },
    {
     "data": {
      "text/html": [
       "<div>\n",
       "<style scoped>\n",
       "    .dataframe tbody tr th:only-of-type {\n",
       "        vertical-align: middle;\n",
       "    }\n",
       "\n",
       "    .dataframe tbody tr th {\n",
       "        vertical-align: top;\n",
       "    }\n",
       "\n",
       "    .dataframe thead th {\n",
       "        text-align: right;\n",
       "    }\n",
       "</style>\n",
       "<table border=\"1\" class=\"dataframe\">\n",
       "  <thead>\n",
       "    <tr style=\"text-align: right;\">\n",
       "      <th></th>\n",
       "      <th>uid</th>\n",
       "      <th>title</th>\n",
       "      <th>synopsis</th>\n",
       "      <th>genre</th>\n",
       "      <th>aired</th>\n",
       "      <th>episodes</th>\n",
       "      <th>members</th>\n",
       "      <th>popularity</th>\n",
       "      <th>ranked</th>\n",
       "      <th>score</th>\n",
       "      <th>est_rating</th>\n",
       "    </tr>\n",
       "  </thead>\n",
       "  <tbody>\n",
       "    <tr>\n",
       "      <th>0</th>\n",
       "      <td>28891</td>\n",
       "      <td>Haikyuu!! Second Season</td>\n",
       "      <td>Following their participation at the Inter-Hig...</td>\n",
       "      <td>['Comedy', 'Sports', 'Drama', 'School', 'Shoun...</td>\n",
       "      <td>Oct 4, 2015 to Mar 27, 2016</td>\n",
       "      <td>25.0</td>\n",
       "      <td>489888</td>\n",
       "      <td>141</td>\n",
       "      <td>25.0</td>\n",
       "      <td>8.82</td>\n",
       "      <td>7.834754</td>\n",
       "    </tr>\n",
       "    <tr>\n",
       "      <th>9240</th>\n",
       "      <td>26345</td>\n",
       "      <td>Kogitsune no Okurimono</td>\n",
       "      <td>Three child kitsune break a precious family po...</td>\n",
       "      <td>['Drama', 'Fantasy', 'Kids']</td>\n",
       "      <td>1993</td>\n",
       "      <td>1.0</td>\n",
       "      <td>110</td>\n",
       "      <td>15111</td>\n",
       "      <td>12755.0</td>\n",
       "      <td>6.80</td>\n",
       "      <td>7.834754</td>\n",
       "    </tr>\n",
       "    <tr>\n",
       "      <th>9229</th>\n",
       "      <td>39916</td>\n",
       "      <td>Kome no Uta</td>\n",
       "      <td>Music video for the song  Kome no Uta  by Japa...</td>\n",
       "      <td>['Kids', 'Music']</td>\n",
       "      <td>Feb 1, 1998</td>\n",
       "      <td>1.0</td>\n",
       "      <td>35</td>\n",
       "      <td>16285</td>\n",
       "      <td>12771.0</td>\n",
       "      <td>5.00</td>\n",
       "      <td>7.834754</td>\n",
       "    </tr>\n",
       "    <tr>\n",
       "      <th>9230</th>\n",
       "      <td>39028</td>\n",
       "      <td>Komatsu Sakyo Anime Gekijou: Tokubetsu-hen</td>\n",
       "      <td>Unaired episodes of  Komatsu Sakyo Anime Gekij...</td>\n",
       "      <td>['Comedy', 'Parody', 'Sci-Fi', 'Space']</td>\n",
       "      <td>Mar 23, 1990 to Jun 22, 1990</td>\n",
       "      <td>3.0</td>\n",
       "      <td>64</td>\n",
       "      <td>16007</td>\n",
       "      <td>12770.0</td>\n",
       "      <td>5.88</td>\n",
       "      <td>7.834754</td>\n",
       "    </tr>\n",
       "    <tr>\n",
       "      <th>9231</th>\n",
       "      <td>26109</td>\n",
       "      <td>Kokoro no Koukyougaku</td>\n",
       "      <td>An educational film about child abuse in Japan.</td>\n",
       "      <td>['Drama', 'Kids']</td>\n",
       "      <td>2002</td>\n",
       "      <td>1.0</td>\n",
       "      <td>113</td>\n",
       "      <td>15049</td>\n",
       "      <td>12766.0</td>\n",
       "      <td>6.83</td>\n",
       "      <td>7.834754</td>\n",
       "    </tr>\n",
       "  </tbody>\n",
       "</table>\n",
       "</div>"
      ],
      "text/plain": [
       "        uid                                       title  \\\n",
       "0     28891                     Haikyuu!! Second Season   \n",
       "9240  26345                      Kogitsune no Okurimono   \n",
       "9229  39916                                 Kome no Uta   \n",
       "9230  39028  Komatsu Sakyo Anime Gekijou: Tokubetsu-hen   \n",
       "9231  26109                       Kokoro no Koukyougaku   \n",
       "\n",
       "                                               synopsis  \\\n",
       "0     Following their participation at the Inter-Hig...   \n",
       "9240  Three child kitsune break a precious family po...   \n",
       "9229  Music video for the song  Kome no Uta  by Japa...   \n",
       "9230  Unaired episodes of  Komatsu Sakyo Anime Gekij...   \n",
       "9231   An educational film about child abuse in Japan.    \n",
       "\n",
       "                                                  genre  \\\n",
       "0     ['Comedy', 'Sports', 'Drama', 'School', 'Shoun...   \n",
       "9240                       ['Drama', 'Fantasy', 'Kids']   \n",
       "9229                                  ['Kids', 'Music']   \n",
       "9230            ['Comedy', 'Parody', 'Sci-Fi', 'Space']   \n",
       "9231                                  ['Drama', 'Kids']   \n",
       "\n",
       "                             aired  episodes  members  popularity   ranked  \\\n",
       "0      Oct 4, 2015 to Mar 27, 2016      25.0   489888         141     25.0   \n",
       "9240                          1993       1.0      110       15111  12755.0   \n",
       "9229                   Feb 1, 1998       1.0       35       16285  12771.0   \n",
       "9230  Mar 23, 1990 to Jun 22, 1990       3.0       64       16007  12770.0   \n",
       "9231                          2002       1.0      113       15049  12766.0   \n",
       "\n",
       "      score  est_rating  \n",
       "0      8.82    7.834754  \n",
       "9240   6.80    7.834754  \n",
       "9229   5.00    7.834754  \n",
       "9230   5.88    7.834754  \n",
       "9231   6.83    7.834754  "
      ]
     },
     "execution_count": 388,
     "metadata": {},
     "output_type": "execute_result"
    }
   ],
   "source": [
    "anime_rec()"
   ]
  },
  {
   "attachments": {},
   "cell_type": "markdown",
   "metadata": {},
   "source": [
    "## Conclusions \n",
    "In conclusion, the collaborative filtering recommendation system is able to predict estimated ratings with an error of 1.5 and return recommendations that a user will most likely rate highly based on their previous rating patterns and similar users' ratings of the recommendations.\n",
    "Overall, collaborative filtering is a powerful technique that can be used to recommend anime to users. However, it is important to be aware of the limitations of the approach and to use it in conjunction with other techniques, such as content-based filtering, to provide the best possible recommendations.\n",
    "Some of the limitations of collaborative filtering:\n",
    " - Data sparsity: Collaborative filtering algorithms rely on users having rated a large number of items. However, in practice, many users only rate a small number of items. This can lead to inaccurate recommendations.\n",
    "    -  One way to overcome data sparsity is to use content-based filtering in conjunction with collaborative filtering. Content-based filtering algorithms recommend items to users based on the content of the items that the user has rated. This can help to fill in the gaps in the data that is available for collaborative filtering.\n",
    " - Cold start: Collaborative filtering algorithms cannot recommend items to users who have not yet rated any items. This can be a problem for new users or users who have recently changed their interests.\n",
    "    -  A potential solution to the cold start problem is to use a hybrid approach that combines collaborative filtering with content-based filtering. In this approach, the algorithm first uses content-based filtering to recommend items to the new user. The algorithm then uses collaborative filtering to refine the recommendations by taking into account the ratings of other users.\n",
    " - Bias: Collaborative filtering algorithms can be biased by the ratings of other users. For example, if a user only rates popular items, the algorithm will recommend other popular items to that user, even if the user might prefer less popular items.\n",
    "    - One way to overcome bias is to use a variety of collaborative filtering algorithms and to combine their results. This can help to reduce the impact of any individual algorithm's biases."
   ]
  },
  {
   "attachments": {},
   "cell_type": "markdown",
   "metadata": {},
   "source": []
  }
 ],
 "metadata": {
  "kernelspec": {
   "display_name": "learn-env",
   "language": "python",
   "name": "python3"
  },
  "language_info": {
   "codemirror_mode": {
    "name": "ipython",
    "version": 3
   },
   "file_extension": ".py",
   "mimetype": "text/x-python",
   "name": "python",
   "nbconvert_exporter": "python",
   "pygments_lexer": "ipython3",
   "version": "3.8.5"
  }
 },
 "nbformat": 4,
 "nbformat_minor": 4
}
