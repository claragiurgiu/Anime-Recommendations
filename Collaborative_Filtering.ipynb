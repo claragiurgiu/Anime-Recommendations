{
 "cells": [
  {
   "attachments": {},
   "cell_type": "markdown",
   "metadata": {},
   "source": [
    "# Anime Recommendation: Collaborative Filtering Approach"
   ]
  },
  {
   "attachments": {},
   "cell_type": "markdown",
   "metadata": {},
   "source": [
    "## Overview\n",
    "This project aims to build an anime recommendation system for new members and current subscribers of an anime streaming service. New members can use a content-based approach to receive recommendations based on a show they may have watched or heard of previosuly. For current subscribers, collaborative filtering is used by comparing the users' ratings and returning shows similar users have rated similarly. "
   ]
  },
  {
   "attachments": {},
   "cell_type": "markdown",
   "metadata": {},
   "source": [
    "\n",
    "## Business Understanding\n",
    "The anime industry is a rapidly growing market, with new shows being released all the time. This can make it difficult for anime fans to find new shows to watch that they will enjoy. Additionally, most streaming services do not offer personalized recommendations, which can lead to users wasting time scrolling through an endless list of shows that they are not interested in.\n",
    "With this project, I aim to build a recommendation system that will help anime fans discover new shows that they will enjoy. The recommendation system will use a variety of factors to make recommendations, including the user's past viewing history, the user's ratings of other shows, and the user's genre preferences. \n",
    "This recommendation system  will give a curated list to its users based on content preference and similar user's pick that will save time and provide a superb experience both novel and familiar to users. "
   ]
  },
  {
   "attachments": {},
   "cell_type": "markdown",
   "metadata": {},
   "source": [
    "## Collaborative Filtering"
   ]
  },
  {
   "cell_type": "code",
   "execution_count": 2,
   "metadata": {},
   "outputs": [],
   "source": [
    "import pandas as pd\n",
    "from surprise import Dataset, Reader, accuracy\n",
    "from surprise.model_selection import cross_validate, GridSearchCV, train_test_split\n",
    "from surprise.prediction_algorithms import SVD, SVDpp, NMF, BaselineOnly, NormalPredictor\n",
    "import matplotlib.pyplot as plt\n",
    "%matplotlib inline"
   ]
  },
  {
   "cell_type": "code",
   "execution_count": 3,
   "metadata": {},
   "outputs": [
    {
     "data": {
      "text/html": [
       "<div>\n",
       "<style scoped>\n",
       "    .dataframe tbody tr th:only-of-type {\n",
       "        vertical-align: middle;\n",
       "    }\n",
       "\n",
       "    .dataframe tbody tr th {\n",
       "        vertical-align: top;\n",
       "    }\n",
       "\n",
       "    .dataframe thead th {\n",
       "        text-align: right;\n",
       "    }\n",
       "</style>\n",
       "<table border=\"1\" class=\"dataframe\">\n",
       "  <thead>\n",
       "    <tr style=\"text-align: right;\">\n",
       "      <th></th>\n",
       "      <th>Unnamed: 0</th>\n",
       "      <th>user_id</th>\n",
       "      <th>anime_id</th>\n",
       "      <th>rating</th>\n",
       "    </tr>\n",
       "  </thead>\n",
       "  <tbody>\n",
       "    <tr>\n",
       "      <th>0</th>\n",
       "      <td>47</td>\n",
       "      <td>1</td>\n",
       "      <td>8074</td>\n",
       "      <td>10</td>\n",
       "    </tr>\n",
       "    <tr>\n",
       "      <th>1</th>\n",
       "      <td>81</td>\n",
       "      <td>1</td>\n",
       "      <td>11617</td>\n",
       "      <td>10</td>\n",
       "    </tr>\n",
       "    <tr>\n",
       "      <th>2</th>\n",
       "      <td>83</td>\n",
       "      <td>1</td>\n",
       "      <td>11757</td>\n",
       "      <td>10</td>\n",
       "    </tr>\n",
       "    <tr>\n",
       "      <th>3</th>\n",
       "      <td>101</td>\n",
       "      <td>1</td>\n",
       "      <td>15451</td>\n",
       "      <td>10</td>\n",
       "    </tr>\n",
       "    <tr>\n",
       "      <th>4</th>\n",
       "      <td>153</td>\n",
       "      <td>2</td>\n",
       "      <td>11771</td>\n",
       "      <td>10</td>\n",
       "    </tr>\n",
       "    <tr>\n",
       "      <th>...</th>\n",
       "      <td>...</td>\n",
       "      <td>...</td>\n",
       "      <td>...</td>\n",
       "      <td>...</td>\n",
       "    </tr>\n",
       "    <tr>\n",
       "      <th>6337236</th>\n",
       "      <td>7813732</td>\n",
       "      <td>73515</td>\n",
       "      <td>16512</td>\n",
       "      <td>7</td>\n",
       "    </tr>\n",
       "    <tr>\n",
       "      <th>6337237</th>\n",
       "      <td>7813733</td>\n",
       "      <td>73515</td>\n",
       "      <td>17187</td>\n",
       "      <td>9</td>\n",
       "    </tr>\n",
       "    <tr>\n",
       "      <th>6337238</th>\n",
       "      <td>7813734</td>\n",
       "      <td>73515</td>\n",
       "      <td>22145</td>\n",
       "      <td>10</td>\n",
       "    </tr>\n",
       "    <tr>\n",
       "      <th>6337239</th>\n",
       "      <td>7813735</td>\n",
       "      <td>73516</td>\n",
       "      <td>790</td>\n",
       "      <td>9</td>\n",
       "    </tr>\n",
       "    <tr>\n",
       "      <th>6337240</th>\n",
       "      <td>7813736</td>\n",
       "      <td>73516</td>\n",
       "      <td>8074</td>\n",
       "      <td>9</td>\n",
       "    </tr>\n",
       "  </tbody>\n",
       "</table>\n",
       "<p>6337241 rows × 4 columns</p>\n",
       "</div>"
      ],
      "text/plain": [
       "         Unnamed: 0  user_id  anime_id  rating\n",
       "0                47        1      8074      10\n",
       "1                81        1     11617      10\n",
       "2                83        1     11757      10\n",
       "3               101        1     15451      10\n",
       "4               153        2     11771      10\n",
       "...             ...      ...       ...     ...\n",
       "6337236     7813732    73515     16512       7\n",
       "6337237     7813733    73515     17187       9\n",
       "6337238     7813734    73515     22145      10\n",
       "6337239     7813735    73516       790       9\n",
       "6337240     7813736    73516      8074       9\n",
       "\n",
       "[6337241 rows x 4 columns]"
      ]
     },
     "execution_count": 3,
     "metadata": {},
     "output_type": "execute_result"
    }
   ],
   "source": [
    "reviews = pd.read_csv('Data/cleaned_reviews.csv')\n",
    "reviews"
   ]
  },
  {
   "cell_type": "code",
   "execution_count": 4,
   "metadata": {},
   "outputs": [
    {
     "data": {
      "text/plain": [
       "(6337241, 4)"
      ]
     },
     "execution_count": 4,
     "metadata": {},
     "output_type": "execute_result"
    }
   ],
   "source": [
    "reviews.shape"
   ]
  },
  {
   "cell_type": "code",
   "execution_count": 5,
   "metadata": {},
   "outputs": [
    {
     "data": {
      "text/html": [
       "<div>\n",
       "<style scoped>\n",
       "    .dataframe tbody tr th:only-of-type {\n",
       "        vertical-align: middle;\n",
       "    }\n",
       "\n",
       "    .dataframe tbody tr th {\n",
       "        vertical-align: top;\n",
       "    }\n",
       "\n",
       "    .dataframe thead th {\n",
       "        text-align: right;\n",
       "    }\n",
       "</style>\n",
       "<table border=\"1\" class=\"dataframe\">\n",
       "  <thead>\n",
       "    <tr style=\"text-align: right;\">\n",
       "      <th></th>\n",
       "      <th>Unnamed: 0</th>\n",
       "      <th>anime_id</th>\n",
       "      <th>rating</th>\n",
       "    </tr>\n",
       "    <tr>\n",
       "      <th>user_id</th>\n",
       "      <th></th>\n",
       "      <th></th>\n",
       "      <th></th>\n",
       "    </tr>\n",
       "  </thead>\n",
       "  <tbody>\n",
       "    <tr>\n",
       "      <th>34856</th>\n",
       "      <td>1</td>\n",
       "      <td>1</td>\n",
       "      <td>1</td>\n",
       "    </tr>\n",
       "    <tr>\n",
       "      <th>52656</th>\n",
       "      <td>1</td>\n",
       "      <td>1</td>\n",
       "      <td>1</td>\n",
       "    </tr>\n",
       "    <tr>\n",
       "      <th>52654</th>\n",
       "      <td>1</td>\n",
       "      <td>1</td>\n",
       "      <td>1</td>\n",
       "    </tr>\n",
       "    <tr>\n",
       "      <th>3859</th>\n",
       "      <td>1</td>\n",
       "      <td>1</td>\n",
       "      <td>1</td>\n",
       "    </tr>\n",
       "    <tr>\n",
       "      <th>52641</th>\n",
       "      <td>1</td>\n",
       "      <td>1</td>\n",
       "      <td>1</td>\n",
       "    </tr>\n",
       "    <tr>\n",
       "      <th>...</th>\n",
       "      <td>...</td>\n",
       "      <td>...</td>\n",
       "      <td>...</td>\n",
       "    </tr>\n",
       "    <tr>\n",
       "      <th>51693</th>\n",
       "      <td>2621</td>\n",
       "      <td>2621</td>\n",
       "      <td>2621</td>\n",
       "    </tr>\n",
       "    <tr>\n",
       "      <th>59643</th>\n",
       "      <td>2632</td>\n",
       "      <td>2632</td>\n",
       "      <td>2632</td>\n",
       "    </tr>\n",
       "    <tr>\n",
       "      <th>57620</th>\n",
       "      <td>2689</td>\n",
       "      <td>2689</td>\n",
       "      <td>2689</td>\n",
       "    </tr>\n",
       "    <tr>\n",
       "      <th>53698</th>\n",
       "      <td>2905</td>\n",
       "      <td>2905</td>\n",
       "      <td>2905</td>\n",
       "    </tr>\n",
       "    <tr>\n",
       "      <th>42635</th>\n",
       "      <td>3747</td>\n",
       "      <td>3747</td>\n",
       "      <td>3747</td>\n",
       "    </tr>\n",
       "  </tbody>\n",
       "</table>\n",
       "<p>69600 rows × 3 columns</p>\n",
       "</div>"
      ],
      "text/plain": [
       "         Unnamed: 0  anime_id  rating\n",
       "user_id                              \n",
       "34856             1         1       1\n",
       "52656             1         1       1\n",
       "52654             1         1       1\n",
       "3859              1         1       1\n",
       "52641             1         1       1\n",
       "...             ...       ...     ...\n",
       "51693          2621      2621    2621\n",
       "59643          2632      2632    2632\n",
       "57620          2689      2689    2689\n",
       "53698          2905      2905    2905\n",
       "42635          3747      3747    3747\n",
       "\n",
       "[69600 rows x 3 columns]"
      ]
     },
     "execution_count": 5,
     "metadata": {},
     "output_type": "execute_result"
    }
   ],
   "source": [
    "reviews.groupby('user_id').count().sort_values(by='rating')"
   ]
  },
  {
   "cell_type": "code",
   "execution_count": 6,
   "metadata": {},
   "outputs": [
    {
     "name": "stdout",
     "output_type": "stream",
     "text": [
      "<class 'pandas.core.frame.DataFrame'>\n",
      "RangeIndex: 6337241 entries, 0 to 6337240\n",
      "Data columns (total 4 columns):\n",
      " #   Column      Dtype\n",
      "---  ------      -----\n",
      " 0   Unnamed: 0  int64\n",
      " 1   user_id     int64\n",
      " 2   anime_id    int64\n",
      " 3   rating      int64\n",
      "dtypes: int64(4)\n",
      "memory usage: 193.4 MB\n"
     ]
    }
   ],
   "source": [
    "reviews.info()"
   ]
  },
  {
   "cell_type": "code",
   "execution_count": 7,
   "metadata": {},
   "outputs": [
    {
     "data": {
      "text/plain": [
       "Unnamed: 0    0\n",
       "user_id       0\n",
       "anime_id      0\n",
       "rating        0\n",
       "dtype: int64"
      ]
     },
     "execution_count": 7,
     "metadata": {},
     "output_type": "execute_result"
    }
   ],
   "source": [
    "reviews.isna().sum()"
   ]
  },
  {
   "cell_type": "code",
   "execution_count": 8,
   "metadata": {},
   "outputs": [],
   "source": [
    "reader = Reader(rating_scale=(1, 10))\n",
    "\n",
    "users = Dataset.load_from_df(reviews[['user_id', 'anime_id', 'rating']], reader)\n",
    "\n",
    "trainset, testset = train_test_split(users, test_size=0.25, random_state=42)"
   ]
  },
  {
   "attachments": {},
   "cell_type": "markdown",
   "metadata": {},
   "source": [
    "### Baseline Models"
   ]
  },
  {
   "cell_type": "code",
   "execution_count": 14,
   "metadata": {},
   "outputs": [
    {
     "name": "stdout",
     "output_type": "stream",
     "text": [
      "RMSE: 2.1488\n"
     ]
    }
   ],
   "source": [
    "baseline_normal = NormalPredictor()\n",
    "baseline_normal.fit(trainset)\n",
    "\n",
    "predictions = baseline_normal.test(testset)\n",
    "\n",
    "normal_acc = accuracy.rmse(predictions)"
   ]
  },
  {
   "cell_type": "code",
   "execution_count": 15,
   "metadata": {},
   "outputs": [
    {
     "name": "stdout",
     "output_type": "stream",
     "text": [
      "Estimating biases using als...\n",
      "RMSE: 1.1922\n"
     ]
    }
   ],
   "source": [
    "# instantiating model\n",
    "baseline_only = BaselineOnly()\n",
    "baseline_only.fit(trainset)\n",
    "\n",
    "# saving test predictions\n",
    "predictions = baseline_only.test(testset)\n",
    "\n",
    "base_acc = accuracy.rmse(predictions)"
   ]
  },
  {
   "attachments": {},
   "cell_type": "markdown",
   "metadata": {},
   "source": [
    "### Single Value Decomposition"
   ]
  },
  {
   "cell_type": "code",
   "execution_count": 27,
   "metadata": {},
   "outputs": [
    {
     "name": "stdout",
     "output_type": "stream",
     "text": [
      "Evaluating RMSE of algorithm SVD on 3 split(s).\n",
      "\n",
      "                  Fold 1  Fold 2  Fold 3  Mean    Std     \n",
      "RMSE (testset)    1.1543  1.1522  1.1531  1.1532  0.0008  \n",
      "Fit time          205.72  203.09  206.57  205.13  1.48    \n",
      "Test time         17.45   17.57   17.19   17.40   0.16    \n"
     ]
    }
   ],
   "source": [
    "svd_base = SVD(random_state=42)\n",
    "\n",
    "results = cross_validate(svd_base, users, measures=['RMSE'], cv=3, n_jobs = -1, verbose=True)"
   ]
  },
  {
   "cell_type": "code",
   "execution_count": 28,
   "metadata": {},
   "outputs": [
    {
     "name": "stdout",
     "output_type": "stream",
     "text": [
      "RMSE: 0.7772\n"
     ]
    }
   ],
   "source": [
    "# fitting trainset\n",
    "svd_base.fit(trainset)\n",
    "\n",
    "# saving test predictions\n",
    "predictions = svd_base.test(testset)\n",
    "\n",
    "svd_base_acc = accuracy.rmse(predictions)"
   ]
  },
  {
   "attachments": {},
   "cell_type": "markdown",
   "metadata": {},
   "source": [
    "The simple SVD is slightly better than the baseline model with a RMSE reduction of approximately 0.067 and from the normal predictor of approximately 1.008. I will use grid searches to determine the best hyperparameters for the model."
   ]
  },
  {
   "attachments": {},
   "cell_type": "markdown",
   "metadata": {},
   "source": [
    "### SVD and Grid Searches"
   ]
  },
  {
   "cell_type": "code",
   "execution_count": 18,
   "metadata": {},
   "outputs": [
    {
     "name": "stderr",
     "output_type": "stream",
     "text": [
      "[Parallel(n_jobs=-1)]: Using backend LokyBackend with 12 concurrent workers.\n",
      "[Parallel(n_jobs=-1)]: Done   1 tasks      | elapsed:  1.2min\n",
      "[Parallel(n_jobs=-1)]: Done   4 out of  24 | elapsed:  1.5min remaining:  7.3min\n",
      "[Parallel(n_jobs=-1)]: Done   7 out of  24 | elapsed:  2.5min remaining:  6.2min\n",
      "[Parallel(n_jobs=-1)]: Done  10 out of  24 | elapsed:  2.8min remaining:  4.0min\n",
      "[Parallel(n_jobs=-1)]: Done  13 out of  24 | elapsed:  3.1min remaining:  2.6min\n",
      "[Parallel(n_jobs=-1)]: Done  16 out of  24 | elapsed:  3.1min remaining:  1.5min\n",
      "[Parallel(n_jobs=-1)]: Done  19 out of  24 | elapsed:  4.3min remaining:  1.1min\n",
      "[Parallel(n_jobs=-1)]: Done  22 out of  24 | elapsed:  4.6min remaining:   24.8s\n",
      "[Parallel(n_jobs=-1)]: Done  24 out of  24 | elapsed:  4.7min finished\n"
     ]
    },
    {
     "data": {
      "text/plain": [
       "{'n_factors': 10, 'n_epochs': 20, 'biased': True}"
      ]
     },
     "execution_count": 18,
     "metadata": {},
     "output_type": "execute_result"
    }
   ],
   "source": [
    "params_1 = {'n_factors':[5, 10], 'n_epochs': [10, 20], 'biased': [True, False]}\n",
    "\n",
    "svd_grid_1 = GridSearchCV(SVD,param_grid=params_1,joblib_verbose=10, n_jobs=-1, cv=3)\n",
    "\n",
    "svd_grid_1.fit(users)\n",
    "\n",
    "svd_grid_1.best_params['rmse']"
   ]
  },
  {
   "cell_type": "code",
   "execution_count": 19,
   "metadata": {},
   "outputs": [
    {
     "name": "stdout",
     "output_type": "stream",
     "text": [
      "RMSE: 1.0357\n"
     ]
    }
   ],
   "source": [
    "# instantiating model with best params from search\n",
    "svd_1 = SVD(n_factors=10, n_epochs=20, random_state=42)\n",
    "\n",
    "# fitting to train set\n",
    "svd_1.fit(trainset)\n",
    "\n",
    "# getting test predictions\n",
    "predictions = svd_1.test(testset)\n",
    "\n",
    "# calculating and saving rmse\n",
    "svd_1_acc = accuracy.rmse(predictions)"
   ]
  },
  {
   "attachments": {},
   "cell_type": "markdown",
   "metadata": {},
   "source": [
    "This model is doing only slightly better than the simple SVD with the best hyperparameters found in the fist grid search. I will add more paramerters in the dictionary next."
   ]
  },
  {
   "cell_type": "code",
   "execution_count": 20,
   "metadata": {},
   "outputs": [
    {
     "name": "stderr",
     "output_type": "stream",
     "text": [
      "[Parallel(n_jobs=-1)]: Using backend LokyBackend with 12 concurrent workers.\n",
      "[Parallel(n_jobs=-1)]: Done   1 tasks      | elapsed:  2.0min\n",
      "[Parallel(n_jobs=-1)]: Done   8 tasks      | elapsed:  3.0min\n",
      "[Parallel(n_jobs=-1)]: Done  17 tasks      | elapsed:  6.6min\n",
      "[Parallel(n_jobs=-1)]: Done  30 out of  48 | elapsed:  9.6min remaining:  5.7min\n",
      "[Parallel(n_jobs=-1)]: Done  35 out of  48 | elapsed: 10.4min remaining:  3.8min\n",
      "[Parallel(n_jobs=-1)]: Done  40 out of  48 | elapsed: 14.2min remaining:  2.8min\n",
      "[Parallel(n_jobs=-1)]: Done  45 out of  48 | elapsed: 14.6min remaining:   58.5s\n",
      "[Parallel(n_jobs=-1)]: Done  48 out of  48 | elapsed: 14.9min finished\n"
     ]
    },
    {
     "data": {
      "text/plain": [
       "{'n_factors': 20, 'n_epochs': 20, 'lr_all': 0.005, 'reg_all': 0.02}"
      ]
     },
     "execution_count": 20,
     "metadata": {},
     "output_type": "execute_result"
    }
   ],
   "source": [
    "# new gridsearch \n",
    "params_2 = {'n_factors':[10, 20], 'n_epochs': [20, 40],'lr_all': [0.05, .005], \n",
    "            'reg_all': [0.01, 0.02]}\n",
    "\n",
    "svd_grid_2 = GridSearchCV(SVD,param_grid=params_2,joblib_verbose=10, n_jobs=-1, cv=3)\n",
    "\n",
    "\n",
    "svd_grid_2.fit(users)\n",
    "svd_grid_2.best_params['rmse']"
   ]
  },
  {
   "cell_type": "code",
   "execution_count": 21,
   "metadata": {},
   "outputs": [
    {
     "name": "stdout",
     "output_type": "stream",
     "text": [
      "RMSE: 0.9833\n"
     ]
    }
   ],
   "source": [
    "# new model with best params from second gridsearch\n",
    "svd_2 = SVD(n_factors=20, n_epochs=20, lr_all=0.005, reg_all=0.02, random_state=42)\n",
    "\n",
    "# fitting to train set\n",
    "svd_2.fit(trainset)\n",
    "\n",
    "# getting test predictions\n",
    "predictions = svd_2.test(testset)\n",
    "\n",
    "# calculating and saving rmse\n",
    "svd_2_acc = accuracy.rmse(predictions)"
   ]
  },
  {
   "attachments": {},
   "cell_type": "markdown",
   "metadata": {},
   "source": [
    "This search shows some slight improvement compared to the previous one and the baseline models. I will continue grid searching with different parameters to determine if I can improve the RMSE further."
   ]
  },
  {
   "cell_type": "code",
   "execution_count": 22,
   "metadata": {},
   "outputs": [
    {
     "name": "stderr",
     "output_type": "stream",
     "text": [
      "[Parallel(n_jobs=-1)]: Using backend LokyBackend with 12 concurrent workers.\n",
      "[Parallel(n_jobs=-1)]: Done   1 tasks      | elapsed:  2.5min\n",
      "[Parallel(n_jobs=-1)]: Done   8 tasks      | elapsed:  3.5min\n",
      "[Parallel(n_jobs=-1)]: Done  17 tasks      | elapsed:  5.9min\n",
      "[Parallel(n_jobs=-1)]: Done  26 tasks      | elapsed:  9.1min\n",
      "[Parallel(n_jobs=-1)]: Done  37 tasks      | elapsed: 12.6min\n",
      "[Parallel(n_jobs=-1)]: Done  48 tasks      | elapsed: 15.1min\n",
      "[Parallel(n_jobs=-1)]: Done  57 out of  72 | elapsed: 18.5min remaining:  4.9min\n",
      "[Parallel(n_jobs=-1)]: Done  65 out of  72 | elapsed: 20.7min remaining:  2.2min\n",
      "[Parallel(n_jobs=-1)]: Done  72 out of  72 | elapsed: 22.3min finished\n"
     ]
    },
    {
     "data": {
      "text/plain": [
       "{'n_factors': 30, 'n_epochs': 20, 'lr_all': 0.005, 'reg_all': 0.03}"
      ]
     },
     "execution_count": 22,
     "metadata": {},
     "output_type": "execute_result"
    }
   ],
   "source": [
    "# new gridsearch \n",
    "params_3 = {'n_factors':[20,30],'n_epochs': [20,25],'lr_all': [0.05, .005, 0.001],\n",
    "            'reg_all': [0.02, 0.03]}\n",
    "\n",
    "svd_grid_3 = GridSearchCV(SVD,param_grid=params_3,joblib_verbose=10, n_jobs=-1, cv=3)\n",
    "\n",
    "\n",
    "svd_grid_3.fit(users)\n",
    "svd_grid_3.best_params['rmse']"
   ]
  },
  {
   "cell_type": "code",
   "execution_count": 23,
   "metadata": {},
   "outputs": [
    {
     "name": "stdout",
     "output_type": "stream",
     "text": [
      "RMSE: 0.9713\n"
     ]
    }
   ],
   "source": [
    "# new model with best params from second gridsearch\n",
    "svd_3 = SVD(n_factors=30, n_epochs=20, lr_all=0.005, reg_all=0.03, random_state=42)\n",
    "\n",
    "# fitting to train set\n",
    "svd_3.fit(trainset)\n",
    "\n",
    "# getting test predictions\n",
    "predictions = svd_3.test(testset)\n",
    "\n",
    "# calculating and saving rmse\n",
    "svd_3_acc = accuracy.rmse(predictions)"
   ]
  },
  {
   "attachments": {},
   "cell_type": "markdown",
   "metadata": {},
   "source": [
    "The RMSE seems to be improving slightly. To be certain, I will run one more search to determine the best model."
   ]
  },
  {
   "cell_type": "code",
   "execution_count": 19,
   "metadata": {},
   "outputs": [
    {
     "name": "stderr",
     "output_type": "stream",
     "text": [
      "[Parallel(n_jobs=-1)]: Using backend LokyBackend with 12 concurrent workers.\n",
      "[Parallel(n_jobs=-1)]: Done   1 tasks      | elapsed:  3.6min\n",
      "[Parallel(n_jobs=-1)]: Done   8 tasks      | elapsed:  4.5min\n",
      "[Parallel(n_jobs=-1)]: Done  17 tasks      | elapsed:  8.8min\n",
      "[Parallel(n_jobs=-1)]: Done  30 out of  48 | elapsed: 13.5min remaining:  8.1min\n",
      "[Parallel(n_jobs=-1)]: Done  35 out of  48 | elapsed: 14.3min remaining:  5.3min\n",
      "[Parallel(n_jobs=-1)]: Done  40 out of  48 | elapsed: 18.5min remaining:  3.7min\n",
      "[Parallel(n_jobs=-1)]: Done  45 out of  48 | elapsed: 18.8min remaining:  1.3min\n",
      "[Parallel(n_jobs=-1)]: Done  48 out of  48 | elapsed: 19.1min finished\n"
     ]
    },
    {
     "data": {
      "text/plain": [
       "{'n_factors': 40, 'n_epochs': 30, 'lr_all': 0.005, 'reg_all': 0.05}"
      ]
     },
     "execution_count": 19,
     "metadata": {},
     "output_type": "execute_result"
    }
   ],
   "source": [
    "params_4 = {'n_factors':[30,40],'n_epochs': [25,30],'lr_all': [0.005, .001],\n",
    "            'reg_all': [0.03, 0.05]}\n",
    "\n",
    "svd_grid_4 = GridSearchCV(SVD,param_grid=params_4,joblib_verbose=10, n_jobs=-1, cv=3)\n",
    "\n",
    "\n",
    "svd_grid_4.fit(users)\n",
    "svd_grid_4.best_params['rmse']"
   ]
  },
  {
   "cell_type": "code",
   "execution_count": 13,
   "metadata": {},
   "outputs": [
    {
     "name": "stdout",
     "output_type": "stream",
     "text": [
      "RMSE: 0.9571\n"
     ]
    }
   ],
   "source": [
    "# new model with best params from second gridsearch\n",
    "svd_4 = SVD(n_factors=40, n_epochs=30, lr_all=0.005, reg_all=0.05, random_state=42)\n",
    "\n",
    "# fitting to train set\n",
    "svd_4.fit(trainset)\n",
    "\n",
    "# getting test predictions\n",
    "predictions = svd_4.test(testset)\n",
    "\n",
    "# calculating and saving rmse\n",
    "svd_4_acc = accuracy.rmse(predictions)"
   ]
  },
  {
   "attachments": {},
   "cell_type": "markdown",
   "metadata": {},
   "source": [
    "The RMSE is only slightly smaller than before. I decided to stop the search here and compare SVD 4 to NMF and SVDPP before testing the model."
   ]
  },
  {
   "attachments": {},
   "cell_type": "markdown",
   "metadata": {},
   "source": [
    "### Non-Negative Matrix Factorization (NMF) Grid Seach "
   ]
  },
  {
   "cell_type": "code",
   "execution_count": 24,
   "metadata": {},
   "outputs": [
    {
     "name": "stderr",
     "output_type": "stream",
     "text": [
      "[Parallel(n_jobs=-1)]: Using backend LokyBackend with 12 concurrent workers.\n",
      "[Parallel(n_jobs=-1)]: Done   1 tasks      | elapsed:  2.1min\n",
      "[Parallel(n_jobs=-1)]: Done   4 out of  24 | elapsed:  2.6min remaining: 12.8min\n",
      "[Parallel(n_jobs=-1)]: Done   7 out of  24 | elapsed:  3.8min remaining:  9.2min\n",
      "[Parallel(n_jobs=-1)]: Done  10 out of  24 | elapsed:  4.1min remaining:  5.8min\n",
      "[Parallel(n_jobs=-1)]: Done  13 out of  24 | elapsed:  4.9min remaining:  4.2min\n",
      "[Parallel(n_jobs=-1)]: Done  16 out of  24 | elapsed:  5.2min remaining:  2.6min\n",
      "[Parallel(n_jobs=-1)]: Done  19 out of  24 | elapsed:  6.7min remaining:  1.8min\n",
      "[Parallel(n_jobs=-1)]: Done  22 out of  24 | elapsed:  7.1min remaining:   38.4s\n",
      "[Parallel(n_jobs=-1)]: Done  24 out of  24 | elapsed:  7.2min finished\n"
     ]
    },
    {
     "data": {
      "text/plain": [
       "{'n_factors': 5, 'n_epochs': 30, 'biased': True}"
      ]
     },
     "execution_count": 24,
     "metadata": {},
     "output_type": "execute_result"
    }
   ],
   "source": [
    "# setting up serach for nmf\n",
    "nmf_params_1 = {'n_factors':[5, 10],\n",
    "             'n_epochs':[20, 30],\n",
    "             'biased': [True, False]}\n",
    "\n",
    "nmf_grid_1 = GridSearchCV(NMF, param_grid=nmf_params_1, cv=3, joblib_verbose=10, n_jobs=-1)\n",
    "\n",
    "\n",
    "nmf_grid_1.fit(users)\n",
    "nmf_grid_1.best_params['rmse']"
   ]
  },
  {
   "cell_type": "code",
   "execution_count": 26,
   "metadata": {},
   "outputs": [
    {
     "name": "stdout",
     "output_type": "stream",
     "text": [
      "RMSE: 1.1832\n"
     ]
    }
   ],
   "source": [
    "nmf_1 = NMF(n_factors=5, n_epochs=30, random_state=42, biased=True)\n",
    "nmf_1.fit(trainset)\n",
    "predictions = nmf_1.test(testset)\n",
    "nmf_1_acc = accuracy.rmse(predictions)"
   ]
  },
  {
   "attachments": {},
   "cell_type": "markdown",
   "metadata": {},
   "source": [
    "This model perfoms worse than all the SVD models with a slighly higher RMSE."
   ]
  },
  {
   "attachments": {},
   "cell_type": "markdown",
   "metadata": {},
   "source": [
    "### SVDPP & Grid Search"
   ]
  },
  {
   "cell_type": "code",
   "execution_count": 23,
   "metadata": {},
   "outputs": [
    {
     "name": "stderr",
     "output_type": "stream",
     "text": [
      "[Parallel(n_jobs=-1)]: Using backend LokyBackend with 12 concurrent workers.\n"
     ]
    }
   ],
   "source": [
    "svdpp_params = {'n_factors':[1, 5],\n",
    "                    'n_epochs':[25, 50],\n",
    "                    'reg_all':[0.02, 0.05]}\n",
    "svdpp_grid_1 = GridSearchCV(SVDpp, param_grid=svdpp_params, cv=3, joblib_verbose=10, n_jobs=-1)\n",
    "\n",
    "svdpp_grid_1.fit(users)\n",
    "svdpp_grid_1.best_params['rmse']"
   ]
  },
  {
   "cell_type": "code",
   "execution_count": null,
   "metadata": {},
   "outputs": [
    {
     "name": "stdout",
     "output_type": "stream",
     "text": [
      "RMSE: 1.6096\n"
     ]
    }
   ],
   "source": [
    "svdpp_1 = SVDpp(n_factors=5, n_epochs=50, reg_all=0.02, random_state=42,)\n",
    "svdpp_1.fit(trainset)\n",
    "predictions = svdpp_1.test(testset)\n",
    "svdpp_1_acc = accuracy.rmse(predictions)"
   ]
  },
  {
   "attachments": {},
   "cell_type": "markdown",
   "metadata": {},
   "source": [
    "### Model Comparison\n",
    "After many iterations of SVD models, model 2 achived the lowest RMSE of 1.531 and will be used as the final model for recommendations. I compared this RMSE to the results from the Normal and Baseline Only predictions used as baselines that had RMSEs of 3.095 and 1.962, respectively. "
   ]
  },
  {
   "cell_type": "code",
   "execution_count": 29,
   "metadata": {},
   "outputs": [],
   "source": [
    "X = ['Baseline', 'SVD Basic', 'SVD 4', 'NMF',]\n",
    "y = [2.1488, 1.1397, 0.9571, 1.1832]"
   ]
  },
  {
   "cell_type": "code",
   "execution_count": 30,
   "metadata": {},
   "outputs": [
    {
     "data": {
      "image/png": "[encoded data removed]",
      "text/plain": [
       "<Figure size 432x288 with 1 Axes>"
      ]
     },
     "metadata": {
      "needs_background": "light"
     },
     "output_type": "display_data"
    }
   ],
   "source": [
    "fig, ax = plt.subplots()\n",
    "plt.bar(X, y, color=['grey', 'blue', 'green', 'blue', 'blue'])\n",
    "plt.xticks(rotation=25)\n",
    "ax.set_title(\"Surprise Models\")\n",
    "plt.ylabel('Root Mean Squared Error (RMSE)')\n",
    "plt.savefig('Images/model_comparison.png', dpi=400);"
   ]
  },
  {
   "attachments": {},
   "cell_type": "markdown",
   "metadata": {},
   "source": [
    "## Building Recommendation Model\n",
    "The following code was sourced from one of my instructor's projects, linked [here](https://github.com/danielburdeno/Kindle-eBook-Recommendations/blob/main/CollaborativeFiltering.ipynb), and adjusted for this model."
   ]
  },
  {
   "cell_type": "code",
   "execution_count": 31,
   "metadata": {},
   "outputs": [
    {
     "data": {
      "text/plain": [
       "<surprise.prediction_algorithms.matrix_factorization.SVD at 0x251ea681460>"
      ]
     },
     "execution_count": 31,
     "metadata": {},
     "output_type": "execute_result"
    }
   ],
   "source": [
    "trainset = users.build_full_trainset()\n",
    "svd_4.fit(trainset)"
   ]
  },
  {
   "cell_type": "code",
   "execution_count": 32,
   "metadata": {},
   "outputs": [
    {
     "name": "stdout",
     "output_type": "stream",
     "text": [
      "<class 'pandas.core.frame.DataFrame'>\n",
      "Int64Index: 15153 entries, 28891 to 16934\n",
      "Data columns (total 6 columns):\n",
      " #   Column    Non-Null Count  Dtype  \n",
      "---  ------    --------------  -----  \n",
      " 0   title     15153 non-null  object \n",
      " 1   synopsis  15153 non-null  object \n",
      " 2   genre     15153 non-null  object \n",
      " 3   episodes  15153 non-null  float64\n",
      " 4   members   15153 non-null  int64  \n",
      " 5   score     15153 non-null  float64\n",
      "dtypes: float64(2), int64(1), object(3)\n",
      "memory usage: 828.7+ KB\n"
     ]
    }
   ],
   "source": [
    "df_original = pd.read_csv('Data/anime_cleaned.csv', index_col='uid')\n",
    "df_original.drop(columns =['Unnamed: 0'], inplace=True)\n",
    "df_original.info()"
   ]
  },
  {
   "cell_type": "code",
   "execution_count": 33,
   "metadata": {},
   "outputs": [
    {
     "data": {
      "text/html": [
       "<div>\n",
       "<style scoped>\n",
       "    .dataframe tbody tr th:only-of-type {\n",
       "        vertical-align: middle;\n",
       "    }\n",
       "\n",
       "    .dataframe tbody tr th {\n",
       "        vertical-align: top;\n",
       "    }\n",
       "\n",
       "    .dataframe thead th {\n",
       "        text-align: right;\n",
       "    }\n",
       "</style>\n",
       "<table border=\"1\" class=\"dataframe\">\n",
       "  <thead>\n",
       "    <tr style=\"text-align: right;\">\n",
       "      <th></th>\n",
       "      <th>title</th>\n",
       "      <th>synopsis</th>\n",
       "      <th>genre</th>\n",
       "      <th>episodes</th>\n",
       "      <th>members</th>\n",
       "      <th>score</th>\n",
       "    </tr>\n",
       "    <tr>\n",
       "      <th>uid</th>\n",
       "      <th></th>\n",
       "      <th></th>\n",
       "      <th></th>\n",
       "      <th></th>\n",
       "      <th></th>\n",
       "      <th></th>\n",
       "    </tr>\n",
       "  </thead>\n",
       "  <tbody>\n",
       "    <tr>\n",
       "      <th>28891</th>\n",
       "      <td>Haikyuu!! Second Season</td>\n",
       "      <td>Following their participation at the Inter-Hig...</td>\n",
       "      <td>['Comedy', 'Sports', 'Drama', 'School', 'Shoun...</td>\n",
       "      <td>25.0</td>\n",
       "      <td>489888</td>\n",
       "      <td>8.82</td>\n",
       "    </tr>\n",
       "    <tr>\n",
       "      <th>23273</th>\n",
       "      <td>Shigatsu wa Kimi no Uso</td>\n",
       "      <td>Music accompanies the path of the human metron...</td>\n",
       "      <td>['Drama', 'Music', 'Romance', 'School', 'Shoun...</td>\n",
       "      <td>22.0</td>\n",
       "      <td>995473</td>\n",
       "      <td>8.83</td>\n",
       "    </tr>\n",
       "    <tr>\n",
       "      <th>34599</th>\n",
       "      <td>Made in Abyss</td>\n",
       "      <td>The Abyss—a gaping chasm stretching down into ...</td>\n",
       "      <td>['Sci-Fi', 'Adventure', 'Mystery', 'Drama', 'F...</td>\n",
       "      <td>13.0</td>\n",
       "      <td>581663</td>\n",
       "      <td>8.83</td>\n",
       "    </tr>\n",
       "    <tr>\n",
       "      <th>5114</th>\n",
       "      <td>Fullmetal Alchemist: Brotherhood</td>\n",
       "      <td>\"In order for something to be obtained, someth...</td>\n",
       "      <td>['Action', 'Military', 'Adventure', 'Comedy', ...</td>\n",
       "      <td>64.0</td>\n",
       "      <td>1615084</td>\n",
       "      <td>9.23</td>\n",
       "    </tr>\n",
       "    <tr>\n",
       "      <th>31758</th>\n",
       "      <td>Kizumonogatari III: Reiketsu-hen</td>\n",
       "      <td>After helping revive the legendary vampire Kis...</td>\n",
       "      <td>['Action', 'Mystery', 'Supernatural', 'Vampire']</td>\n",
       "      <td>1.0</td>\n",
       "      <td>214621</td>\n",
       "      <td>8.83</td>\n",
       "    </tr>\n",
       "  </tbody>\n",
       "</table>\n",
       "</div>"
      ],
      "text/plain": [
       "                                  title  \\\n",
       "uid                                       \n",
       "28891           Haikyuu!! Second Season   \n",
       "23273           Shigatsu wa Kimi no Uso   \n",
       "34599                     Made in Abyss   \n",
       "5114   Fullmetal Alchemist: Brotherhood   \n",
       "31758  Kizumonogatari III: Reiketsu-hen   \n",
       "\n",
       "                                                synopsis  \\\n",
       "uid                                                        \n",
       "28891  Following their participation at the Inter-Hig...   \n",
       "23273  Music accompanies the path of the human metron...   \n",
       "34599  The Abyss—a gaping chasm stretching down into ...   \n",
       "5114   \"In order for something to be obtained, someth...   \n",
       "31758  After helping revive the legendary vampire Kis...   \n",
       "\n",
       "                                                   genre  episodes  members  \\\n",
       "uid                                                                           \n",
       "28891  ['Comedy', 'Sports', 'Drama', 'School', 'Shoun...      25.0   489888   \n",
       "23273  ['Drama', 'Music', 'Romance', 'School', 'Shoun...      22.0   995473   \n",
       "34599  ['Sci-Fi', 'Adventure', 'Mystery', 'Drama', 'F...      13.0   581663   \n",
       "5114   ['Action', 'Military', 'Adventure', 'Comedy', ...      64.0  1615084   \n",
       "31758   ['Action', 'Mystery', 'Supernatural', 'Vampire']       1.0   214621   \n",
       "\n",
       "       score  \n",
       "uid           \n",
       "28891   8.82  \n",
       "23273   8.83  \n",
       "34599   8.83  \n",
       "5114    9.23  \n",
       "31758   8.83  "
      ]
     },
     "execution_count": 33,
     "metadata": {},
     "output_type": "execute_result"
    }
   ],
   "source": [
    "df_original.head()"
   ]
  },
  {
   "cell_type": "code",
   "execution_count": 38,
   "metadata": {},
   "outputs": [
    {
     "data": {
      "text/html": [
       "<div>\n",
       "<style scoped>\n",
       "    .dataframe tbody tr th:only-of-type {\n",
       "        vertical-align: middle;\n",
       "    }\n",
       "\n",
       "    .dataframe tbody tr th {\n",
       "        vertical-align: top;\n",
       "    }\n",
       "\n",
       "    .dataframe thead th {\n",
       "        text-align: right;\n",
       "    }\n",
       "</style>\n",
       "<table border=\"1\" class=\"dataframe\">\n",
       "  <thead>\n",
       "    <tr style=\"text-align: right;\">\n",
       "      <th></th>\n",
       "      <th>anime_id</th>\n",
       "    </tr>\n",
       "    <tr>\n",
       "      <th>user_id</th>\n",
       "      <th></th>\n",
       "    </tr>\n",
       "  </thead>\n",
       "  <tbody>\n",
       "    <tr>\n",
       "      <th>1</th>\n",
       "      <td>8074</td>\n",
       "    </tr>\n",
       "    <tr>\n",
       "      <th>1</th>\n",
       "      <td>11617</td>\n",
       "    </tr>\n",
       "    <tr>\n",
       "      <th>1</th>\n",
       "      <td>11757</td>\n",
       "    </tr>\n",
       "    <tr>\n",
       "      <th>1</th>\n",
       "      <td>15451</td>\n",
       "    </tr>\n",
       "    <tr>\n",
       "      <th>2</th>\n",
       "      <td>11771</td>\n",
       "    </tr>\n",
       "  </tbody>\n",
       "</table>\n",
       "</div>"
      ],
      "text/plain": [
       "         anime_id\n",
       "user_id          \n",
       "1            8074\n",
       "1           11617\n",
       "1           11757\n",
       "1           15451\n",
       "2           11771"
      ]
     },
     "execution_count": 38,
     "metadata": {},
     "output_type": "execute_result"
    }
   ],
   "source": [
    "user_ids = reviews.set_index('user_id')\n",
    "user_ids.drop(columns=['Unnamed: 0', 'rating'], inplace=True)\n",
    "user_ids.head()"
   ]
  },
  {
   "cell_type": "code",
   "execution_count": 39,
   "metadata": {},
   "outputs": [
    {
     "data": {
      "text/plain": [
       "anime_id    int64\n",
       "dtype: object"
      ]
     },
     "execution_count": 39,
     "metadata": {},
     "output_type": "execute_result"
    }
   ],
   "source": [
    "user_ids.dtypes"
   ]
  },
  {
   "cell_type": "code",
   "execution_count": 40,
   "metadata": {},
   "outputs": [],
   "source": [
    "user_ids.to_csv('Data/user_anime_df.csv')"
   ]
  },
  {
   "cell_type": "code",
   "execution_count": 43,
   "metadata": {},
   "outputs": [],
   "source": [
    "user = input('UserID: ')\n",
    "recs = int(input('Number of Recommendations: '))"
   ]
  },
  {
   "cell_type": "code",
   "execution_count": 45,
   "metadata": {},
   "outputs": [
    {
     "data": {
      "text/plain": [
       "[1,\n",
       " 5,\n",
       " 6,\n",
       " 19,\n",
       " 27,\n",
       " 30,\n",
       " 33,\n",
       " 57,\n",
       " 67,\n",
       " 71,\n",
       " 72,\n",
       " 73,\n",
       " 96,\n",
       " 121,\n",
       " 134,\n",
       " 150,\n",
       " 166,\n",
       " 167,\n",
       " 168,\n",
       " 182,\n",
       " 184,\n",
       " 198,\n",
       " 202,\n",
       " 205,\n",
       " 226,\n",
       " 239,\n",
       " 240,\n",
       " 269,\n",
       " 270,\n",
       " 297,\n",
       " 317,\n",
       " 343,\n",
       " 356,\n",
       " 384,\n",
       " 395,\n",
       " 405,\n",
       " 411,\n",
       " 419,\n",
       " 430,\n",
       " 523,\n",
       " 574,\n",
       " 617,\n",
       " 618,\n",
       " 762,\n",
       " 777,\n",
       " 834,\n",
       " 856,\n",
       " 860,\n",
       " 924,\n",
       " 928,\n",
       " 934,\n",
       " 935,\n",
       " 1013,\n",
       " 1015,\n",
       " 1165,\n",
       " 1243,\n",
       " 1361,\n",
       " 1454,\n",
       " 1482,\n",
       " 1498,\n",
       " 1535,\n",
       " 1575,\n",
       " 1576,\n",
       " 1587,\n",
       " 1686,\n",
       " 1726,\n",
       " 1813,\n",
       " 1818,\n",
       " 1827,\n",
       " 1860,\n",
       " 1889,\n",
       " 2001,\n",
       " 2002,\n",
       " 2025,\n",
       " 2161,\n",
       " 2169,\n",
       " 2369,\n",
       " 2404,\n",
       " 2508,\n",
       " 2593,\n",
       " 2596,\n",
       " 2683,\n",
       " 2759,\n",
       " 2795,\n",
       " 2889,\n",
       " 2904,\n",
       " 2952,\n",
       " 2970,\n",
       " 3231,\n",
       " 3248,\n",
       " 3342,\n",
       " 3366,\n",
       " 3588,\n",
       " 3593,\n",
       " 3594,\n",
       " 3653,\n",
       " 3655,\n",
       " 3782,\n",
       " 3783,\n",
       " 3784,\n",
       " 4182,\n",
       " 4280,\n",
       " 4282,\n",
       " 4654,\n",
       " 4765,\n",
       " 4835,\n",
       " 4898,\n",
       " 4975,\n",
       " 4981,\n",
       " 5039,\n",
       " 5114,\n",
       " 5204,\n",
       " 5205,\n",
       " 5355,\n",
       " 5505,\n",
       " 5507,\n",
       " 6213,\n",
       " 6573,\n",
       " 6581,\n",
       " 6634,\n",
       " 6707,\n",
       " 6747,\n",
       " 6793,\n",
       " 6880,\n",
       " 6895,\n",
       " 6918,\n",
       " 6919,\n",
       " 6922,\n",
       " 6954,\n",
       " 6973,\n",
       " 6974,\n",
       " 7338,\n",
       " 7724,\n",
       " 8074,\n",
       " 8247,\n",
       " 8769,\n",
       " 8795,\n",
       " 8917,\n",
       " 8937,\n",
       " 9041,\n",
       " 9065,\n",
       " 9253,\n",
       " 9367,\n",
       " 9513,\n",
       " 9587,\n",
       " 9834,\n",
       " 9919,\n",
       " 10020,\n",
       " 10087,\n",
       " 10156,\n",
       " 10218,\n",
       " 10490,\n",
       " 10588,\n",
       " 11021,\n",
       " 11111,\n",
       " 11241,\n",
       " 11411,\n",
       " 11701,\n",
       " 11741,\n",
       " 11751,\n",
       " 11757,\n",
       " 11759,\n",
       " 11837,\n",
       " 12031,\n",
       " 12113,\n",
       " 12115,\n",
       " 12293,\n",
       " 12413,\n",
       " 12445,\n",
       " 12461,\n",
       " 12967,\n",
       " 13161,\n",
       " 13331,\n",
       " 13599,\n",
       " 13659,\n",
       " 14345,\n",
       " 16512,\n",
       " 17187,\n",
       " 22145]"
      ]
     },
     "execution_count": 45,
     "metadata": {},
     "output_type": "execute_result"
    }
   ],
   "source": [
    "reviewed = list(user_ids.loc[user, 'anime_id'])\n",
    "reviewed"
   ]
  },
  {
   "cell_type": "code",
   "execution_count": 46,
   "metadata": {},
   "outputs": [
    {
     "data": {
      "text/html": [
       "<div>\n",
       "<style scoped>\n",
       "    .dataframe tbody tr th:only-of-type {\n",
       "        vertical-align: middle;\n",
       "    }\n",
       "\n",
       "    .dataframe tbody tr th {\n",
       "        vertical-align: top;\n",
       "    }\n",
       "\n",
       "    .dataframe thead th {\n",
       "        text-align: right;\n",
       "    }\n",
       "</style>\n",
       "<table border=\"1\" class=\"dataframe\">\n",
       "  <thead>\n",
       "    <tr style=\"text-align: right;\">\n",
       "      <th></th>\n",
       "      <th>uid</th>\n",
       "      <th>title</th>\n",
       "      <th>synopsis</th>\n",
       "      <th>genre</th>\n",
       "      <th>episodes</th>\n",
       "      <th>members</th>\n",
       "      <th>score</th>\n",
       "    </tr>\n",
       "  </thead>\n",
       "  <tbody>\n",
       "    <tr>\n",
       "      <th>0</th>\n",
       "      <td>28891</td>\n",
       "      <td>Haikyuu!! Second Season</td>\n",
       "      <td>Following their participation at the Inter-Hig...</td>\n",
       "      <td>['Comedy', 'Sports', 'Drama', 'School', 'Shoun...</td>\n",
       "      <td>25.0</td>\n",
       "      <td>489888</td>\n",
       "      <td>8.82</td>\n",
       "    </tr>\n",
       "    <tr>\n",
       "      <th>1</th>\n",
       "      <td>23273</td>\n",
       "      <td>Shigatsu wa Kimi no Uso</td>\n",
       "      <td>Music accompanies the path of the human metron...</td>\n",
       "      <td>['Drama', 'Music', 'Romance', 'School', 'Shoun...</td>\n",
       "      <td>22.0</td>\n",
       "      <td>995473</td>\n",
       "      <td>8.83</td>\n",
       "    </tr>\n",
       "    <tr>\n",
       "      <th>2</th>\n",
       "      <td>34599</td>\n",
       "      <td>Made in Abyss</td>\n",
       "      <td>The Abyss—a gaping chasm stretching down into ...</td>\n",
       "      <td>['Sci-Fi', 'Adventure', 'Mystery', 'Drama', 'F...</td>\n",
       "      <td>13.0</td>\n",
       "      <td>581663</td>\n",
       "      <td>8.83</td>\n",
       "    </tr>\n",
       "    <tr>\n",
       "      <th>3</th>\n",
       "      <td>31758</td>\n",
       "      <td>Kizumonogatari III: Reiketsu-hen</td>\n",
       "      <td>After helping revive the legendary vampire Kis...</td>\n",
       "      <td>['Action', 'Mystery', 'Supernatural', 'Vampire']</td>\n",
       "      <td>1.0</td>\n",
       "      <td>214621</td>\n",
       "      <td>8.83</td>\n",
       "    </tr>\n",
       "    <tr>\n",
       "      <th>4</th>\n",
       "      <td>37510</td>\n",
       "      <td>Mob Psycho 100 II</td>\n",
       "      <td>Shigeo \"Mob\" Kageyama is now maturing and unde...</td>\n",
       "      <td>['Action', 'Slice of Life', 'Comedy', 'Superna...</td>\n",
       "      <td>13.0</td>\n",
       "      <td>442310</td>\n",
       "      <td>8.89</td>\n",
       "    </tr>\n",
       "  </tbody>\n",
       "</table>\n",
       "</div>"
      ],
      "text/plain": [
       "     uid                             title  \\\n",
       "0  28891           Haikyuu!! Second Season   \n",
       "1  23273           Shigatsu wa Kimi no Uso   \n",
       "2  34599                     Made in Abyss   \n",
       "3  31758  Kizumonogatari III: Reiketsu-hen   \n",
       "4  37510                 Mob Psycho 100 II   \n",
       "\n",
       "                                            synopsis  \\\n",
       "0  Following their participation at the Inter-Hig...   \n",
       "1  Music accompanies the path of the human metron...   \n",
       "2  The Abyss—a gaping chasm stretching down into ...   \n",
       "3  After helping revive the legendary vampire Kis...   \n",
       "4  Shigeo \"Mob\" Kageyama is now maturing and unde...   \n",
       "\n",
       "                                               genre  episodes  members  score  \n",
       "0  ['Comedy', 'Sports', 'Drama', 'School', 'Shoun...      25.0   489888   8.82  \n",
       "1  ['Drama', 'Music', 'Romance', 'School', 'Shoun...      22.0   995473   8.83  \n",
       "2  ['Sci-Fi', 'Adventure', 'Mystery', 'Drama', 'F...      13.0   581663   8.83  \n",
       "3   ['Action', 'Mystery', 'Supernatural', 'Vampire']       1.0   214621   8.83  \n",
       "4  ['Action', 'Slice of Life', 'Comedy', 'Superna...      13.0   442310   8.89  "
      ]
     },
     "execution_count": 46,
     "metadata": {},
     "output_type": "execute_result"
    }
   ],
   "source": [
    "# original dataset copy to subset on reviewed shows\n",
    "not_reviewed = df_original.copy()\n",
    "not_reviewed.drop(reviewed, inplace=True)\n",
    "not_reviewed.reset_index(inplace=True)\n",
    "not_reviewed.head()"
   ]
  },
  {
   "cell_type": "code",
   "execution_count": 50,
   "metadata": {},
   "outputs": [
    {
     "data": {
      "text/html": [
       "<div>\n",
       "<style scoped>\n",
       "    .dataframe tbody tr th:only-of-type {\n",
       "        vertical-align: middle;\n",
       "    }\n",
       "\n",
       "    .dataframe tbody tr th {\n",
       "        vertical-align: top;\n",
       "    }\n",
       "\n",
       "    .dataframe thead th {\n",
       "        text-align: right;\n",
       "    }\n",
       "</style>\n",
       "<table border=\"1\" class=\"dataframe\">\n",
       "  <thead>\n",
       "    <tr style=\"text-align: right;\">\n",
       "      <th></th>\n",
       "      <th>uid</th>\n",
       "      <th>title</th>\n",
       "      <th>synopsis</th>\n",
       "      <th>genre</th>\n",
       "      <th>episodes</th>\n",
       "      <th>members</th>\n",
       "      <th>score</th>\n",
       "      <th>est_rating</th>\n",
       "    </tr>\n",
       "  </thead>\n",
       "  <tbody>\n",
       "    <tr>\n",
       "      <th>709</th>\n",
       "      <td>32281</td>\n",
       "      <td>Kimi no Na wa.</td>\n",
       "      <td>Mitsuha Miyamizu, a high school girl, yearns t...</td>\n",
       "      <td>['Romance', 'Supernatural', 'School', 'Drama']</td>\n",
       "      <td>1.0</td>\n",
       "      <td>1139878</td>\n",
       "      <td>9.09</td>\n",
       "      <td>9.246780</td>\n",
       "    </tr>\n",
       "    <tr>\n",
       "      <th>707</th>\n",
       "      <td>28977</td>\n",
       "      <td>Gintama°</td>\n",
       "      <td>Gintoki, Shinpachi, and Kagura return as the f...</td>\n",
       "      <td>['Action', 'Comedy', 'Historical', 'Parody', '...</td>\n",
       "      <td>51.0</td>\n",
       "      <td>281594</td>\n",
       "      <td>9.05</td>\n",
       "      <td>9.242083</td>\n",
       "    </tr>\n",
       "    <tr>\n",
       "      <th>705</th>\n",
       "      <td>820</td>\n",
       "      <td>Ginga Eiyuu Densetsu</td>\n",
       "      <td>The 150-year-long stalemate between the two in...</td>\n",
       "      <td>['Military', 'Sci-Fi', 'Space', 'Drama']</td>\n",
       "      <td>110.0</td>\n",
       "      <td>175423</td>\n",
       "      <td>9.03</td>\n",
       "      <td>9.209597</td>\n",
       "    </tr>\n",
       "    <tr>\n",
       "      <th>703</th>\n",
       "      <td>28851</td>\n",
       "      <td>Koe no Katachi</td>\n",
       "      <td>As a wild youth, elementary school student Sho...</td>\n",
       "      <td>['Drama', 'School', 'Shounen']</td>\n",
       "      <td>1.0</td>\n",
       "      <td>842277</td>\n",
       "      <td>9.01</td>\n",
       "      <td>9.182941</td>\n",
       "    </tr>\n",
       "    <tr>\n",
       "      <th>706</th>\n",
       "      <td>9969</td>\n",
       "      <td>Gintama'</td>\n",
       "      <td>After a one-year hiatus, Shinpachi Shimura ret...</td>\n",
       "      <td>['Action', 'Sci-Fi', 'Comedy', 'Historical', '...</td>\n",
       "      <td>51.0</td>\n",
       "      <td>278110</td>\n",
       "      <td>9.04</td>\n",
       "      <td>9.129486</td>\n",
       "    </tr>\n",
       "  </tbody>\n",
       "</table>\n",
       "</div>"
      ],
      "text/plain": [
       "       uid                 title  \\\n",
       "709  32281        Kimi no Na wa.   \n",
       "707  28977              Gintama°   \n",
       "705    820  Ginga Eiyuu Densetsu   \n",
       "703  28851        Koe no Katachi   \n",
       "706   9969              Gintama'   \n",
       "\n",
       "                                              synopsis  \\\n",
       "709  Mitsuha Miyamizu, a high school girl, yearns t...   \n",
       "707  Gintoki, Shinpachi, and Kagura return as the f...   \n",
       "705  The 150-year-long stalemate between the two in...   \n",
       "703  As a wild youth, elementary school student Sho...   \n",
       "706  After a one-year hiatus, Shinpachi Shimura ret...   \n",
       "\n",
       "                                                 genre  episodes  members  \\\n",
       "709     ['Romance', 'Supernatural', 'School', 'Drama']       1.0  1139878   \n",
       "707  ['Action', 'Comedy', 'Historical', 'Parody', '...      51.0   281594   \n",
       "705           ['Military', 'Sci-Fi', 'Space', 'Drama']     110.0   175423   \n",
       "703                     ['Drama', 'School', 'Shounen']       1.0   842277   \n",
       "706  ['Action', 'Sci-Fi', 'Comedy', 'Historical', '...      51.0   278110   \n",
       "\n",
       "     score  est_rating  \n",
       "709   9.09    9.246780  \n",
       "707   9.05    9.242083  \n",
       "705   9.03    9.209597  \n",
       "703   9.01    9.182941  \n",
       "706   9.04    9.129486  "
      ]
     },
     "execution_count": 50,
     "metadata": {},
     "output_type": "execute_result"
    }
   ],
   "source": [
    "not_reviewed['est_rating'] = not_reviewed['uid'].apply(lambda x: svd_4.predict(user, x).est)\n",
    "not_reviewed.sort_values(by='est_rating',  ascending=False, inplace=True)\n",
    "not_reviewed.head()"
   ]
  },
  {
   "cell_type": "code",
   "execution_count": 52,
   "metadata": {},
   "outputs": [
    {
     "data": {
      "text/html": [
       "<div>\n",
       "<style scoped>\n",
       "    .dataframe tbody tr th:only-of-type {\n",
       "        vertical-align: middle;\n",
       "    }\n",
       "\n",
       "    .dataframe tbody tr th {\n",
       "        vertical-align: top;\n",
       "    }\n",
       "\n",
       "    .dataframe thead th {\n",
       "        text-align: right;\n",
       "    }\n",
       "</style>\n",
       "<table border=\"1\" class=\"dataframe\">\n",
       "  <thead>\n",
       "    <tr style=\"text-align: right;\">\n",
       "      <th></th>\n",
       "      <th>uid</th>\n",
       "      <th>title</th>\n",
       "      <th>synopsis</th>\n",
       "      <th>genre</th>\n",
       "      <th>episodes</th>\n",
       "      <th>members</th>\n",
       "      <th>score</th>\n",
       "      <th>est_rating</th>\n",
       "    </tr>\n",
       "  </thead>\n",
       "  <tbody>\n",
       "    <tr>\n",
       "      <th>709</th>\n",
       "      <td>32281</td>\n",
       "      <td>Kimi no Na wa.</td>\n",
       "      <td>Mitsuha Miyamizu, a high school girl, yearns t...</td>\n",
       "      <td>['Romance', 'Supernatural', 'School', 'Drama']</td>\n",
       "      <td>1.0</td>\n",
       "      <td>1139878</td>\n",
       "      <td>9.09</td>\n",
       "      <td>9.246780</td>\n",
       "    </tr>\n",
       "    <tr>\n",
       "      <th>707</th>\n",
       "      <td>28977</td>\n",
       "      <td>Gintama°</td>\n",
       "      <td>Gintoki, Shinpachi, and Kagura return as the f...</td>\n",
       "      <td>['Action', 'Comedy', 'Historical', 'Parody', '...</td>\n",
       "      <td>51.0</td>\n",
       "      <td>281594</td>\n",
       "      <td>9.05</td>\n",
       "      <td>9.242083</td>\n",
       "    </tr>\n",
       "    <tr>\n",
       "      <th>705</th>\n",
       "      <td>820</td>\n",
       "      <td>Ginga Eiyuu Densetsu</td>\n",
       "      <td>The 150-year-long stalemate between the two in...</td>\n",
       "      <td>['Military', 'Sci-Fi', 'Space', 'Drama']</td>\n",
       "      <td>110.0</td>\n",
       "      <td>175423</td>\n",
       "      <td>9.03</td>\n",
       "      <td>9.209597</td>\n",
       "    </tr>\n",
       "    <tr>\n",
       "      <th>703</th>\n",
       "      <td>28851</td>\n",
       "      <td>Koe no Katachi</td>\n",
       "      <td>As a wild youth, elementary school student Sho...</td>\n",
       "      <td>['Drama', 'School', 'Shounen']</td>\n",
       "      <td>1.0</td>\n",
       "      <td>842277</td>\n",
       "      <td>9.01</td>\n",
       "      <td>9.182941</td>\n",
       "    </tr>\n",
       "    <tr>\n",
       "      <th>706</th>\n",
       "      <td>9969</td>\n",
       "      <td>Gintama'</td>\n",
       "      <td>After a one-year hiatus, Shinpachi Shimura ret...</td>\n",
       "      <td>['Action', 'Sci-Fi', 'Comedy', 'Historical', '...</td>\n",
       "      <td>51.0</td>\n",
       "      <td>278110</td>\n",
       "      <td>9.04</td>\n",
       "      <td>9.129486</td>\n",
       "    </tr>\n",
       "  </tbody>\n",
       "</table>\n",
       "</div>"
      ],
      "text/plain": [
       "       uid                 title  \\\n",
       "709  32281        Kimi no Na wa.   \n",
       "707  28977              Gintama°   \n",
       "705    820  Ginga Eiyuu Densetsu   \n",
       "703  28851        Koe no Katachi   \n",
       "706   9969              Gintama'   \n",
       "\n",
       "                                              synopsis  \\\n",
       "709  Mitsuha Miyamizu, a high school girl, yearns t...   \n",
       "707  Gintoki, Shinpachi, and Kagura return as the f...   \n",
       "705  The 150-year-long stalemate between the two in...   \n",
       "703  As a wild youth, elementary school student Sho...   \n",
       "706  After a one-year hiatus, Shinpachi Shimura ret...   \n",
       "\n",
       "                                                 genre  episodes  members  \\\n",
       "709     ['Romance', 'Supernatural', 'School', 'Drama']       1.0  1139878   \n",
       "707  ['Action', 'Comedy', 'Historical', 'Parody', '...      51.0   281594   \n",
       "705           ['Military', 'Sci-Fi', 'Space', 'Drama']     110.0   175423   \n",
       "703                     ['Drama', 'School', 'Shounen']       1.0   842277   \n",
       "706  ['Action', 'Sci-Fi', 'Comedy', 'Historical', '...      51.0   278110   \n",
       "\n",
       "     score  est_rating  \n",
       "709   9.09    9.246780  \n",
       "707   9.05    9.242083  \n",
       "705   9.03    9.209597  \n",
       "703   9.01    9.182941  \n",
       "706   9.04    9.129486  "
      ]
     },
     "execution_count": 52,
     "metadata": {},
     "output_type": "execute_result"
    }
   ],
   "source": [
    "not_reviewed.head(recs)"
   ]
  },
  {
   "cell_type": "code",
   "execution_count": 63,
   "metadata": {},
   "outputs": [],
   "source": [
    "def anime_rec():\n",
    "    \n",
    "    user = input('UserID: ')\n",
    "    recs = int(input('Number of Recommendations: '))\n",
    "    \n",
    "    reviewed = list(user_ids.loc[user, 'anime_id'])\n",
    "    \n",
    "    not_reviewed = df_original.copy()\n",
    "    not_reviewed.drop(reviewed, inplace=True)\n",
    "    not_reviewed.reset_index(inplace=True)\n",
    "    not_reviewed['est_rating'] = not_reviewed['uid'].apply(lambda x: svd_4.predict(user, x).est)\n",
    "    not_reviewed.sort_values(by='est_rating',  ascending=False, inplace=True)\n",
    "\n",
    "    \n",
    "    return not_reviewed.head(recs)"
   ]
  },
  {
   "cell_type": "code",
   "execution_count": 64,
   "metadata": {
    "scrolled": false
   },
   "outputs": [
    {
     "data": {
      "text/html": [
       "<div>\n",
       "<style scoped>\n",
       "    .dataframe tbody tr th:only-of-type {\n",
       "        vertical-align: middle;\n",
       "    }\n",
       "\n",
       "    .dataframe tbody tr th {\n",
       "        vertical-align: top;\n",
       "    }\n",
       "\n",
       "    .dataframe thead th {\n",
       "        text-align: right;\n",
       "    }\n",
       "</style>\n",
       "<table border=\"1\" class=\"dataframe\">\n",
       "  <thead>\n",
       "    <tr style=\"text-align: right;\">\n",
       "      <th></th>\n",
       "      <th>uid</th>\n",
       "      <th>title</th>\n",
       "      <th>synopsis</th>\n",
       "      <th>genre</th>\n",
       "      <th>episodes</th>\n",
       "      <th>members</th>\n",
       "      <th>score</th>\n",
       "      <th>est_rating</th>\n",
       "    </tr>\n",
       "  </thead>\n",
       "  <tbody>\n",
       "    <tr>\n",
       "      <th>749</th>\n",
       "      <td>32281</td>\n",
       "      <td>Kimi no Na wa.</td>\n",
       "      <td>Mitsuha Miyamizu, a high school girl, yearns t...</td>\n",
       "      <td>['Romance', 'Supernatural', 'School', 'Drama']</td>\n",
       "      <td>1.0</td>\n",
       "      <td>1139878</td>\n",
       "      <td>9.09</td>\n",
       "      <td>9.246780</td>\n",
       "    </tr>\n",
       "    <tr>\n",
       "      <th>747</th>\n",
       "      <td>28977</td>\n",
       "      <td>Gintama°</td>\n",
       "      <td>Gintoki, Shinpachi, and Kagura return as the f...</td>\n",
       "      <td>['Action', 'Comedy', 'Historical', 'Parody', '...</td>\n",
       "      <td>51.0</td>\n",
       "      <td>281594</td>\n",
       "      <td>9.05</td>\n",
       "      <td>9.242083</td>\n",
       "    </tr>\n",
       "    <tr>\n",
       "      <th>745</th>\n",
       "      <td>820</td>\n",
       "      <td>Ginga Eiyuu Densetsu</td>\n",
       "      <td>The 150-year-long stalemate between the two in...</td>\n",
       "      <td>['Military', 'Sci-Fi', 'Space', 'Drama']</td>\n",
       "      <td>110.0</td>\n",
       "      <td>175423</td>\n",
       "      <td>9.03</td>\n",
       "      <td>9.209597</td>\n",
       "    </tr>\n",
       "    <tr>\n",
       "      <th>743</th>\n",
       "      <td>28851</td>\n",
       "      <td>Koe no Katachi</td>\n",
       "      <td>As a wild youth, elementary school student Sho...</td>\n",
       "      <td>['Drama', 'School', 'Shounen']</td>\n",
       "      <td>1.0</td>\n",
       "      <td>842277</td>\n",
       "      <td>9.01</td>\n",
       "      <td>9.182941</td>\n",
       "    </tr>\n",
       "    <tr>\n",
       "      <th>3</th>\n",
       "      <td>5114</td>\n",
       "      <td>Fullmetal Alchemist: Brotherhood</td>\n",
       "      <td>\"In order for something to be obtained, someth...</td>\n",
       "      <td>['Action', 'Military', 'Adventure', 'Comedy', ...</td>\n",
       "      <td>64.0</td>\n",
       "      <td>1615084</td>\n",
       "      <td>9.23</td>\n",
       "      <td>9.158677</td>\n",
       "    </tr>\n",
       "  </tbody>\n",
       "</table>\n",
       "</div>"
      ],
      "text/plain": [
       "       uid                             title  \\\n",
       "749  32281                    Kimi no Na wa.   \n",
       "747  28977                          Gintama°   \n",
       "745    820              Ginga Eiyuu Densetsu   \n",
       "743  28851                    Koe no Katachi   \n",
       "3     5114  Fullmetal Alchemist: Brotherhood   \n",
       "\n",
       "                                              synopsis  \\\n",
       "749  Mitsuha Miyamizu, a high school girl, yearns t...   \n",
       "747  Gintoki, Shinpachi, and Kagura return as the f...   \n",
       "745  The 150-year-long stalemate between the two in...   \n",
       "743  As a wild youth, elementary school student Sho...   \n",
       "3    \"In order for something to be obtained, someth...   \n",
       "\n",
       "                                                 genre  episodes  members  \\\n",
       "749     ['Romance', 'Supernatural', 'School', 'Drama']       1.0  1139878   \n",
       "747  ['Action', 'Comedy', 'Historical', 'Parody', '...      51.0   281594   \n",
       "745           ['Military', 'Sci-Fi', 'Space', 'Drama']     110.0   175423   \n",
       "743                     ['Drama', 'School', 'Shounen']       1.0   842277   \n",
       "3    ['Action', 'Military', 'Adventure', 'Comedy', ...      64.0  1615084   \n",
       "\n",
       "     score  est_rating  \n",
       "749   9.09    9.246780  \n",
       "747   9.05    9.242083  \n",
       "745   9.03    9.209597  \n",
       "743   9.01    9.182941  \n",
       "3     9.23    9.158677  "
      ]
     },
     "execution_count": 64,
     "metadata": {},
     "output_type": "execute_result"
    }
   ],
   "source": [
    "# recommendations for user # 73512\n",
    "anime_rec()"
   ]
  },
  {
   "attachments": {},
   "cell_type": "markdown",
   "metadata": {},
   "source": [
    "## Conclusions \n",
    "In conclusion, the collaborative filtering recommendation system is able to predict estimated ratings with an error of 1.5 and return recommendations that a user will most likely rate highly based on their previous rating patterns and similar users' ratings of the recommendations.\n",
    "Overall, collaborative filtering is a powerful technique that can be used to recommend anime to users. However, it is important to be aware of the limitations of the approach and to use it in conjunction with other techniques, such as content-based filtering, to provide the best possible recommendations.\n",
    "Some of the limitations of collaborative filtering:\n",
    " - Data sparsity: Collaborative filtering algorithms rely on users having rated a large number of items. However, in practice, many users only rate a small number of items. This can lead to inaccurate recommendations.\n",
    "    -  One way to overcome data sparsity is to use content-based filtering in conjunction with collaborative filtering. Content-based filtering algorithms recommend items to users based on the content of the items that the user has rated. This can help to fill in the gaps in the data that is available for collaborative filtering.\n",
    " - Cold start: Collaborative filtering algorithms cannot recommend items to users who have not yet rated any items. This can be a problem for new users or users who have recently changed their interests.\n",
    "    -  A potential solution to the cold start problem is to use a hybrid approach that combines collaborative filtering with content-based filtering. In this approach, the algorithm first uses content-based filtering to recommend items to the new user. The algorithm then uses collaborative filtering to refine the recommendations by taking into account the ratings of other users.\n",
    " - Bias: Collaborative filtering algorithms can be biased by the ratings of other users. For example, if a user only rates popular items, the algorithm will recommend other popular items to that user, even if the user might prefer less popular items.\n",
    "    - One way to overcome bias is to use a variety of collaborative filtering algorithms and to combine their results. This can help to reduce the impact of any individual algorithm's biases."
   ]
  },
  {
   "attachments": {},
   "cell_type": "markdown",
   "metadata": {},
   "source": []
  }
 ],
 "metadata": {
  "kernelspec": {
   "display_name": "learn-env",
   "language": "python",
   "name": "python3"
  },
  "language_info": {
   "codemirror_mode": {
    "name": "ipython",
    "version": 3
   },
   "file_extension": ".py",
   "mimetype": "text/x-python",
   "name": "python",
   "nbconvert_exporter": "python",
   "pygments_lexer": "ipython3",
   "version": "3.8.5"
  }
 },
 "nbformat": 4,
 "nbformat_minor": 4
}
